{
 "cells": [
  {
   "cell_type": "markdown",
   "id": "16c52bdb-ba43-42e9-aa1b-e9932ccbf01f",
   "metadata": {},
   "source": [
    "# BitCoin Price Predictor <br> FBprophet Model"
   ]
  },
  {
   "cell_type": "markdown",
   "id": "c2f42ae5-1bff-4428-9725-06775ea7f262",
   "metadata": {},
   "source": [
    "## Import Section"
   ]
  },
  {
   "cell_type": "code",
   "execution_count": null,
   "id": "2af17a7b-ff7f-40f5-813d-d449bb19941c",
   "metadata": {},
   "outputs": [],
   "source": [
    "import matplotlib.pyplot as plt\n",
    "import yfinance as yf\n",
    "\n",
    "from fbprophet import Prophet"
   ]
  },
  {
   "cell_type": "code",
   "execution_count": null,
   "id": "9d58872f-570a-415d-89a5-9338181d05a4",
   "metadata": {},
   "outputs": [],
   "source": [
    "# Downlaoding data from yahoo finance\n",
    "df = yf.download('BTC-USD', start='2017-01-01')"
   ]
  },
  {
   "cell_type": "markdown",
   "id": "de8b6c2f-203c-433a-861c-d0863392e97a",
   "metadata": {},
   "source": [
    "## EDA "
   ]
  },
  {
   "cell_type": "code",
   "execution_count": null,
   "id": "654f342b-0bac-47d3-b16c-0606ea43d4be",
   "metadata": {},
   "outputs": [],
   "source": [
    "df.head() # Checing what the dataset conatins"
   ]
  },
  {
   "cell_type": "code",
   "execution_count": null,
   "id": "831aaa61-d47f-4a1e-a2df-680dde7d7cd4",
   "metadata": {},
   "outputs": [],
   "source": [
    "df = df.reset_index() # Reseting the index to let date be it's own feature"
   ]
  },
  {
   "cell_type": "code",
   "execution_count": null,
   "id": "608c361f-ee3c-4776-b911-7f8bfe1e7dbc",
   "metadata": {},
   "outputs": [],
   "source": [
    "df.head() "
   ]
  },
  {
   "cell_type": "code",
   "execution_count": null,
   "id": "74255858-6025-4f19-ad09-3c65a763e0a4",
   "metadata": {},
   "outputs": [],
   "source": [
    "df[['ds', 'y']] = df[['Date', 'Adj Close']] # Setting up naming convention for prophet"
   ]
  },
  {
   "cell_type": "code",
   "execution_count": null,
   "id": "dbdccac8-4929-40e1-aa57-fe31cd0bcf5f",
   "metadata": {},
   "outputs": [],
   "source": [
    "df.head()"
   ]
  },
  {
   "cell_type": "markdown",
   "id": "f59b0861-3f37-419e-bb59-7935b32e984e",
   "metadata": {},
   "source": [
    "## Model Building"
   ]
  },
  {
   "cell_type": "code",
   "execution_count": null,
   "id": "22709fc1-08f2-4f98-bbbd-46887308527f",
   "metadata": {},
   "outputs": [],
   "source": [
    "model = Prophet() # intializing the prophet model"
   ]
  },
  {
   "cell_type": "code",
   "execution_count": null,
   "id": "f3623558-a912-4da3-bae4-e87d68562659",
   "metadata": {},
   "outputs": [],
   "source": [
    "model.fit(df) # Fitting the data to the model."
   ]
  },
  {
   "cell_type": "code",
   "execution_count": null,
   "id": "1874d941-d723-400b-9d05-aab0f86d4665",
   "metadata": {},
   "outputs": [],
   "source": [
    "future = model.make_future_dataframe(365) # Setting up variable for making prediction for 1 year"
   ]
  },
  {
   "cell_type": "code",
   "execution_count": null,
   "id": "7de6f18f-13ca-4058-9f81-e9e87b6f72e1",
   "metadata": {},
   "outputs": [],
   "source": [
    "forecast = model.predict(future) # Makign the predictions"
   ]
  },
  {
   "cell_type": "code",
   "execution_count": null,
   "id": "18208669-635a-452c-b0bc-b1d73edaafe3",
   "metadata": {},
   "outputs": [],
   "source": [
    "forecast # Checkign the predictions"
   ]
  },
  {
   "cell_type": "code",
   "execution_count": null,
   "id": "2a7d2e0d-c1f1-4271-98e0-733e8358011c",
   "metadata": {},
   "outputs": [],
   "source": [
    "model.plot(forecast) # ploting the predictions"
   ]
  },
  {
   "cell_type": "markdown",
   "id": "d8bb8058-dae9-4aef-9462-96244fa1fd25",
   "metadata": {},
   "source": [
    "## Model Preformace"
   ]
  },
  {
   "cell_type": "code",
   "execution_count": null,
   "id": "d31d1e8f-a2d2-474a-a606-4fa79777a756",
   "metadata": {},
   "outputs": [],
   "source": [
    "from prophet.diagnostics import performance_metrics\n",
    "forcast = performance_metrics(df_cv) # Checking overall how it did and the RMSE\n",
    "forcast.head()"
   ]
  },
  {
   "cell_type": "code",
   "execution_count": null,
   "id": "882ee840-bbd8-41d9-b07f-f0a1b1551aa1",
   "metadata": {},
   "outputs": [],
   "source": []
  }
 ],
 "metadata": {
  "kernelspec": {
   "display_name": "Python 3 (ipykernel)",
   "language": "python",
   "name": "python3"
  },
  "language_info": {
   "codemirror_mode": {
    "name": "ipython",
    "version": 3
   },
   "file_extension": ".py",
   "mimetype": "text/x-python",
   "name": "python",
   "nbconvert_exporter": "python",
   "pygments_lexer": "ipython3",
   "version": "3.8.10"
  }
 },
 "nbformat": 4,
 "nbformat_minor": 5
}
