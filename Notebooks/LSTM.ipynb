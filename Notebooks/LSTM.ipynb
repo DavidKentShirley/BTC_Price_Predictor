{
 "cells": [
  {
   "cell_type": "markdown",
   "id": "f15e818e-b3ba-4f4c-89b0-3d8aa7a572b7",
   "metadata": {},
   "source": [
    "# Trying Something New"
   ]
  },
  {
   "cell_type": "code",
   "execution_count": 119,
   "id": "04dde02f-7e7a-4e1a-b1d2-8f0f83897283",
   "metadata": {},
   "outputs": [],
   "source": [
    "from functions import *"
   ]
  },
  {
   "cell_type": "code",
   "execution_count": 120,
   "id": "0f270730-c550-4569-a606-f669e4c4caa0",
   "metadata": {},
   "outputs": [],
   "source": [
    "# Setting Variables\n",
    "crypto_currency = \"BTC\" # Can be changed into any Crypto\n",
    "base_currency = \"USD\" # Can be changed into any Currency\n",
    "\n",
    "# Start date and end date can be changed to any time frame\n",
    "start = dt.datetime(2016, 1, 1)\n",
    "end = dt.datetime.now()\n",
    "\n",
    "# Days to look at, can be changed to any amount of days withing the timeframe set above\n",
    "prediction_days = 30"
   ]
  },
  {
   "cell_type": "code",
   "execution_count": 121,
   "id": "90c8872c-a48e-447a-bb4a-74ada352c9f2",
   "metadata": {},
   "outputs": [
    {
     "data": {
      "text/html": [
       "<div>\n",
       "<style scoped>\n",
       "    .dataframe tbody tr th:only-of-type {\n",
       "        vertical-align: middle;\n",
       "    }\n",
       "\n",
       "    .dataframe tbody tr th {\n",
       "        vertical-align: top;\n",
       "    }\n",
       "\n",
       "    .dataframe thead th {\n",
       "        text-align: right;\n",
       "    }\n",
       "</style>\n",
       "<table border=\"1\" class=\"dataframe\">\n",
       "  <thead>\n",
       "    <tr style=\"text-align: right;\">\n",
       "      <th></th>\n",
       "      <th>High</th>\n",
       "      <th>Low</th>\n",
       "      <th>Open</th>\n",
       "      <th>Close</th>\n",
       "      <th>Volume</th>\n",
       "      <th>Adj Close</th>\n",
       "    </tr>\n",
       "    <tr>\n",
       "      <th>Date</th>\n",
       "      <th></th>\n",
       "      <th></th>\n",
       "      <th></th>\n",
       "      <th></th>\n",
       "      <th></th>\n",
       "      <th></th>\n",
       "    </tr>\n",
       "  </thead>\n",
       "  <tbody>\n",
       "    <tr>\n",
       "      <th>2016-01-01</th>\n",
       "      <td>436.246002</td>\n",
       "      <td>427.515015</td>\n",
       "      <td>430.721008</td>\n",
       "      <td>434.334015</td>\n",
       "      <td>36278900.0</td>\n",
       "      <td>434.334015</td>\n",
       "    </tr>\n",
       "    <tr>\n",
       "      <th>2016-01-02</th>\n",
       "      <td>436.062012</td>\n",
       "      <td>431.869995</td>\n",
       "      <td>434.622009</td>\n",
       "      <td>433.437988</td>\n",
       "      <td>30096600.0</td>\n",
       "      <td>433.437988</td>\n",
       "    </tr>\n",
       "    <tr>\n",
       "      <th>2016-01-03</th>\n",
       "      <td>433.743011</td>\n",
       "      <td>424.705994</td>\n",
       "      <td>433.578003</td>\n",
       "      <td>430.010986</td>\n",
       "      <td>39633800.0</td>\n",
       "      <td>430.010986</td>\n",
       "    </tr>\n",
       "    <tr>\n",
       "      <th>2016-01-04</th>\n",
       "      <td>434.516998</td>\n",
       "      <td>429.084015</td>\n",
       "      <td>430.061005</td>\n",
       "      <td>433.091003</td>\n",
       "      <td>38477500.0</td>\n",
       "      <td>433.091003</td>\n",
       "    </tr>\n",
       "    <tr>\n",
       "      <th>2016-01-05</th>\n",
       "      <td>434.182007</td>\n",
       "      <td>429.675995</td>\n",
       "      <td>433.069000</td>\n",
       "      <td>431.959991</td>\n",
       "      <td>34522600.0</td>\n",
       "      <td>431.959991</td>\n",
       "    </tr>\n",
       "  </tbody>\n",
       "</table>\n",
       "</div>"
      ],
      "text/plain": [
       "                  High         Low        Open       Close      Volume  \\\n",
       "Date                                                                     \n",
       "2016-01-01  436.246002  427.515015  430.721008  434.334015  36278900.0   \n",
       "2016-01-02  436.062012  431.869995  434.622009  433.437988  30096600.0   \n",
       "2016-01-03  433.743011  424.705994  433.578003  430.010986  39633800.0   \n",
       "2016-01-04  434.516998  429.084015  430.061005  433.091003  38477500.0   \n",
       "2016-01-05  434.182007  429.675995  433.069000  431.959991  34522600.0   \n",
       "\n",
       "             Adj Close  \n",
       "Date                    \n",
       "2016-01-01  434.334015  \n",
       "2016-01-02  433.437988  \n",
       "2016-01-03  430.010986  \n",
       "2016-01-04  433.091003  \n",
       "2016-01-05  431.959991  "
      ]
     },
     "execution_count": 121,
     "metadata": {},
     "output_type": "execute_result"
    }
   ],
   "source": [
    "# Getting the data from data function\n",
    "data = get_data(crypto_currency, base_currency, start, end)\n",
    "data.head()"
   ]
  },
  {
   "cell_type": "code",
   "execution_count": 122,
   "id": "a891ff84-1fee-4934-9bec-252ba90c0e8c",
   "metadata": {},
   "outputs": [],
   "source": [
    "# Setting what we want to calcualte\n",
    "data = data['Close']"
   ]
  },
  {
   "cell_type": "code",
   "execution_count": 123,
   "id": "027e716e-059b-4538-84dc-c24777ea6ead",
   "metadata": {},
   "outputs": [
    {
     "data": {
      "text/plain": [
       "[<matplotlib.lines.Line2D at 0x2224c52ea30>]"
      ]
     },
     "execution_count": 123,
     "metadata": {},
     "output_type": "execute_result"
    },
    {
     "data": {
      "image/png": "[encoded data removed]",
      "text/plain": [
       "<Figure size 432x288 with 1 Axes>"
      ]
     },
     "metadata": {
      "needs_background": "light"
     },
     "output_type": "display_data"
    }
   ],
   "source": [
    "plt.plot(data)"
   ]
  },
  {
   "cell_type": "code",
   "execution_count": null,
   "id": "c76988b4-ecfa-4161-b64c-875f1cb0043d",
   "metadata": {},
   "outputs": [],
   "source": []
  },
  {
   "cell_type": "code",
   "execution_count": 124,
   "id": "8aad2fda-9a2f-489a-8e3b-fb5b18a35620",
   "metadata": {},
   "outputs": [],
   "source": [
    "# Model Training Data\n",
    "X_train, y_train = train_data_sets(data, prediction_days)"
   ]
  },
  {
   "cell_type": "code",
   "execution_count": 125,
   "id": "415b0734-7544-4c37-ab9a-252daa7519d4",
   "metadata": {
    "tags": []
   },
   "outputs": [
    {
     "name": "stdout",
     "output_type": "stream",
     "text": [
      "Epoch 1/50\n",
      "63/63 [==============================] - 4s 15ms/step - loss: 0.0049\n",
      "Epoch 2/50\n",
      "63/63 [==============================] - 1s 17ms/step - loss: 0.0021\n",
      "Epoch 3/50\n",
      "63/63 [==============================] - 1s 17ms/step - loss: 0.0016\n",
      "Epoch 4/50\n",
      "63/63 [==============================] - 1s 15ms/step - loss: 0.0019\n",
      "Epoch 5/50\n",
      "63/63 [==============================] - 1s 16ms/step - loss: 0.0019\n",
      "Epoch 6/50\n",
      "63/63 [==============================] - 1s 14ms/step - loss: 0.0016\n",
      "Epoch 7/50\n",
      "63/63 [==============================] - 1s 16ms/step - loss: 0.0018\n",
      "Epoch 8/50\n",
      "63/63 [==============================] - 1s 16ms/step - loss: 0.0012\n",
      "Epoch 9/50\n",
      "63/63 [==============================] - 1s 16ms/step - loss: 0.0011\n",
      "Epoch 10/50\n",
      "63/63 [==============================] - 1s 16ms/step - loss: 0.0013\n",
      "Epoch 11/50\n",
      "63/63 [==============================] - 1s 16ms/step - loss: 0.0014 ETA: 1s - \n",
      "Epoch 12/50\n",
      "63/63 [==============================] - 1s 16ms/step - loss: 0.0012\n",
      "Epoch 13/50\n",
      "63/63 [==============================] - 1s 16ms/step - loss: 0.0014\n",
      "Epoch 14/50\n",
      "63/63 [==============================] - 1s 16ms/step - loss: 0.0011\n",
      "Epoch 15/50\n",
      "63/63 [==============================] - 1s 16ms/step - loss: 0.0011\n",
      "Epoch 16/50\n",
      "63/63 [==============================] - 1s 17ms/step - loss: 0.0011\n",
      "Epoch 17/50\n",
      "63/63 [==============================] - 1s 16ms/step - loss: 0.0010\n",
      "Epoch 18/50\n",
      "63/63 [==============================] - 1s 15ms/step - loss: 9.1492e-04\n",
      "Epoch 19/50\n",
      "63/63 [==============================] - 1s 16ms/step - loss: 0.0010\n",
      "Epoch 20/50\n",
      "63/63 [==============================] - 1s 14ms/step - loss: 8.7278e-04\n",
      "Epoch 21/50\n",
      "63/63 [==============================] - 1s 15ms/step - loss: 8.6684e-04\n",
      "Epoch 22/50\n",
      "63/63 [==============================] - 1s 16ms/step - loss: 7.5779e-04\n",
      "Epoch 23/50\n",
      "63/63 [==============================] - 1s 15ms/step - loss: 7.6991e-04\n",
      "Epoch 24/50\n",
      "63/63 [==============================] - 1s 14ms/step - loss: 8.2214e-04\n",
      "Epoch 25/50\n",
      "63/63 [==============================] - 1s 16ms/step - loss: 7.9504e-04\n",
      "Epoch 26/50\n",
      "63/63 [==============================] - 1s 15ms/step - loss: 9.1382e-04\n",
      "Epoch 27/50\n",
      "63/63 [==============================] - 1s 16ms/step - loss: 9.7907e-04\n",
      "Epoch 28/50\n",
      "63/63 [==============================] - 1s 16ms/step - loss: 6.7955e-04\n",
      "Epoch 29/50\n",
      "63/63 [==============================] - 1s 16ms/step - loss: 8.6754e-04\n",
      "Epoch 30/50\n",
      "63/63 [==============================] - 1s 16ms/step - loss: 7.0465e-04\n",
      "Epoch 31/50\n",
      "63/63 [==============================] - 1s 16ms/step - loss: 7.7431e-04\n",
      "Epoch 32/50\n",
      "63/63 [==============================] - 1s 16ms/step - loss: 7.5816e-04\n",
      "Epoch 33/50\n",
      "63/63 [==============================] - 1s 17ms/step - loss: 8.4641e-04\n",
      "Epoch 34/50\n",
      "63/63 [==============================] - 1s 16ms/step - loss: 6.9447e-04\n",
      "Epoch 35/50\n",
      "63/63 [==============================] - 1s 16ms/step - loss: 8.1551e-04\n",
      "Epoch 36/50\n",
      "63/63 [==============================] - 1s 16ms/step - loss: 7.6140e-04\n",
      "Epoch 37/50\n",
      "63/63 [==============================] - 1s 16ms/step - loss: 6.6289e-04\n",
      "Epoch 38/50\n",
      "63/63 [==============================] - 1s 16ms/step - loss: 6.7730e-04\n",
      "Epoch 39/50\n",
      "63/63 [==============================] - 1s 15ms/step - loss: 8.1123e-04\n",
      "Epoch 40/50\n",
      "63/63 [==============================] - 1s 14ms/step - loss: 7.6095e-04\n",
      "Epoch 41/50\n",
      "63/63 [==============================] - 1s 16ms/step - loss: 6.7747e-04\n",
      "Epoch 42/50\n",
      "63/63 [==============================] - 1s 15ms/step - loss: 7.8810e-04\n",
      "Epoch 43/50\n",
      "63/63 [==============================] - 1s 15ms/step - loss: 8.1248e-04: 0s - loss: 8.83\n",
      "Epoch 44/50\n",
      "63/63 [==============================] - 1s 15ms/step - loss: 8.5384e-04\n",
      "Epoch 45/50\n",
      "63/63 [==============================] - 1s 16ms/step - loss: 7.9342e-04\n",
      "Epoch 46/50\n",
      "63/63 [==============================] - 1s 15ms/step - loss: 6.8252e-04\n",
      "Epoch 47/50\n",
      "63/63 [==============================] - 1s 15ms/step - loss: 6.9857e-04\n",
      "Epoch 48/50\n",
      "63/63 [==============================] - 1s 15ms/step - loss: 7.4249e-04\n",
      "Epoch 49/50\n",
      "63/63 [==============================] - 1s 16ms/step - loss: 6.5753e-04\n",
      "Epoch 50/50\n",
      "63/63 [==============================] - 1s 14ms/step - loss: 9.0453e-04\n"
     ]
    }
   ],
   "source": [
    "# Model Building\n",
    "batch = 32\n",
    "epochs = 50\n",
    "\n",
    "model_build(X_train, y_train, batch, epochs)"
   ]
  },
  {
   "cell_type": "code",
   "execution_count": null,
   "id": "441da619-2543-4d70-83a3-dea1ca33e2d9",
   "metadata": {},
   "outputs": [],
   "source": []
  },
  {
   "cell_type": "code",
   "execution_count": null,
   "id": "679cca2a-6893-4b12-8dfc-810105461a31",
   "metadata": {},
   "outputs": [],
   "source": []
  },
  {
   "cell_type": "code",
   "execution_count": 126,
   "id": "ab3cc12c-65e9-4dfe-84bd-8463e19e5b5f",
   "metadata": {},
   "outputs": [],
   "source": [
    "data = get_data(crypto_currency, base_currency, start, end)"
   ]
  },
  {
   "cell_type": "code",
   "execution_count": 127,
   "id": "ec5a3eb8-6433-43b7-91cd-e31baa99dc14",
   "metadata": {},
   "outputs": [],
   "source": [
    "test_start = dt.datetime(2020,1,1)\n",
    "test_end = dt.datetime.now()\n",
    "\n",
    "test_data = get_data(crypto_currency, base_currency, test_start, test_end)\n",
    "actual_prices = test_data['Close'].values\n",
    "\n",
    "#total_dataset = pd.concat(data['Close'], test_data['Close'])"
   ]
  },
  {
   "cell_type": "code",
   "execution_count": 128,
   "id": "5adcccdf-a3cb-46ef-91aa-24308c4cf9fc",
   "metadata": {},
   "outputs": [],
   "source": [
    "total_dataset = pd.concat((data['Close'], test_data['Close']), axis = 0)"
   ]
  },
  {
   "cell_type": "code",
   "execution_count": 129,
   "id": "d9333b37-b00c-4c80-a9f0-558d7be8f83f",
   "metadata": {},
   "outputs": [],
   "source": [
    "scaler = MinMaxScaler()\n",
    "\n",
    "model_inputs = total_dataset[len(total_dataset) - len(test_data) - prediction_days:].values\n",
    "model_inputs = model_inputs.reshape(-1, 1)\n",
    "model_inputs = scaler.fit_transform(model_inputs)"
   ]
  },
  {
   "cell_type": "code",
   "execution_count": 130,
   "id": "3a064b8b-859d-4c52-95e6-71f0dd86c681",
   "metadata": {},
   "outputs": [],
   "source": [
    "X_test= []\n",
    "\n",
    "for x in range(prediction_days, len(model_inputs)):\n",
    "    X_test.append(model_inputs[x-prediction_days:x, 0])\n",
    "\n",
    "X_test = np.array(X_test)\n",
    "X_test = np.reshape(X_test, (X_test.shape[0], X_test.shape[1], 1))"
   ]
  },
  {
   "cell_type": "code",
   "execution_count": null,
   "id": "a3bcd621-0f93-4315-8d1c-6f4c4f388a4f",
   "metadata": {},
   "outputs": [],
   "source": []
  },
  {
   "cell_type": "code",
   "execution_count": 131,
   "id": "d7a8fc8a-069e-4af2-a823-cfa80998130e",
   "metadata": {},
   "outputs": [
    {
     "name": "stdout",
     "output_type": "stream",
     "text": [
      "WARNING:tensorflow:Model was constructed with shape (None, 60, 1) for input KerasTensor(type_spec=TensorSpec(shape=(None, 60, 1), dtype=tf.float32, name='lstm_9_input'), name='lstm_9_input', description=\"created by layer 'lstm_9_input'\"), but it was called on an input with incompatible shape (None, 30, 1).\n"
     ]
    }
   ],
   "source": [
    "prediction_prices = model.predict(X_test)\n",
    "prediction_prices = scaler.inverse_transform(prediction_prices)"
   ]
  },
  {
   "cell_type": "code",
   "execution_count": 132,
   "id": "e8aadd06-7085-4e63-90f1-e01c361e1376",
   "metadata": {},
   "outputs": [
    {
     "data": {
      "text/plain": [
       "<function matplotlib.pyplot.show(close=None, block=None)>"
      ]
     },
     "execution_count": 132,
     "metadata": {},
     "output_type": "execute_result"
    },
    {
     "data": {
      "image/png": "[encoded data removed]",
      "text/plain": [
       "<Figure size 432x288 with 1 Axes>"
      ]
     },
     "metadata": {
      "needs_background": "light"
     },
     "output_type": "display_data"
    }
   ],
   "source": [
    "plt.plot(actual_prices, color='black', label=\"Actual Prices\")\n",
    "plt.plot(prediction_prices, color='red', label='Predicted Prices')\n",
    "plt.title(f'{crypto_currency} price prediction')\n",
    "plt.xlabel('Time')\n",
    "plt.ylabel('Price')\n",
    "plt.legend(loc='upper left')\n",
    "plt.show"
   ]
  },
  {
   "cell_type": "code",
   "execution_count": 133,
   "id": "2aaba61c-5f0b-4c0f-a1c0-cda7eef3c094",
   "metadata": {},
   "outputs": [
    {
     "data": {
      "text/plain": [
       "array([ 7200.17431641,  6985.47021484,  7344.88427734,  7410.65673828,\n",
       "        7411.31738281,  7769.21923828,  8163.69238281,  8079.86279297,\n",
       "        7879.07128906,  8166.55419922,  8037.53759766,  8192.49414062,\n",
       "        8144.19433594,  8827.76464844,  8807.01074219,  8723.78613281,\n",
       "        8929.03808594,  8942.80859375,  8706.24511719,  8657.64257812,\n",
       "        8745.89453125,  8680.87597656,  8406.515625  ,  8445.43457031,\n",
       "        8367.84765625,  8596.83007812,  8909.81933594,  9358.58984375,\n",
       "        9316.62988281,  9508.99316406,  9350.52929688,  9392.875     ,\n",
       "        9344.36523438,  9293.52148438,  9180.96289062,  9613.42382812,\n",
       "        9729.80175781,  9795.94335938,  9865.11914062, 10116.67382812,\n",
       "        9856.61132812, 10208.23632812, 10326.0546875 , 10214.37988281,\n",
       "       10312.11621094,  9889.42480469,  9934.43359375,  9690.14257812,\n",
       "       10141.99609375,  9633.38671875,  9608.47558594,  9686.44140625,\n",
       "        9663.18164062,  9924.515625  ,  9650.17480469,  9341.70507812,\n",
       "        8820.52246094,  8784.49414062,  8672.45507812,  8599.50878906,\n",
       "        8562.45410156,  8869.66992188,  8787.78613281,  8755.24609375,\n",
       "        9078.76269531,  9122.54589844,  8909.95410156,  8108.11621094,\n",
       "        7923.64453125,  7909.72949219,  7911.43017578,  4970.78808594,\n",
       "        5563.70703125,  5200.36621094,  5392.31494141,  5014.47998047,\n",
       "        5225.62939453,  5238.43847656,  6191.19287109,  6198.77832031,\n",
       "        6185.06640625,  5830.25488281,  6416.31494141,  6734.80371094,\n",
       "        6681.06298828,  6716.44042969,  6469.79833984,  6242.19384766,\n",
       "        5922.04296875,  6429.84179688,  6438.64453125,  6606.77636719,\n",
       "        6793.62451172,  6733.38720703,  6867.52734375,  6791.12939453,\n",
       "        7271.78125   ,  7176.41455078,  7334.09863281,  7302.08935547,\n",
       "        6865.49316406,  6859.08300781,  6971.09179688,  6845.03759766,\n",
       "        6842.42773438,  6642.10986328,  7116.80419922,  7257.66503906,\n",
       "        7189.42480469,  6881.95849609,  6880.32324219,  7117.20751953,\n",
       "        7429.72460938,  7550.90087891,  7569.93603516,  7679.8671875 ,\n",
       "        7795.60107422,  7807.05859375,  8801.03808594,  8658.55371094,\n",
       "        8864.76660156,  8988.59667969,  8897.46875   ,  8912.65429688,\n",
       "        9003.0703125 ,  9268.76171875,  9951.51855469,  9842.66601562,\n",
       "        9593.89648438,  8756.43066406,  8601.79589844,  8804.47753906,\n",
       "        9269.98730469,  9733.72167969,  9328.19726562,  9377.01367188,\n",
       "        9670.73925781,  9726.57519531,  9729.03808594,  9522.98144531,\n",
       "        9081.76171875,  9182.57714844,  9209.28710938,  8790.36816406,\n",
       "        8906.93457031,  8835.05273438,  9181.01757812,  9525.75097656,\n",
       "        9439.12402344,  9700.4140625 ,  9461.05859375, 10167.26855469,\n",
       "        9529.80371094,  9656.71777344,  9800.63671875,  9665.53320312,\n",
       "        9653.6796875 ,  9758.85253906,  9771.48925781,  9795.70019531,\n",
       "        9870.09472656,  9321.78125   ,  9480.84375   ,  9475.27734375,\n",
       "        9386.78808594,  9450.70214844,  9538.02441406,  9480.25488281,\n",
       "        9411.84082031,  9288.01855469,  9332.34082031,  9303.62988281,\n",
       "        9648.71777344,  9629.65820312,  9313.61035156,  9264.81347656,\n",
       "        9162.91796875,  9045.390625  ,  9143.58203125,  9190.85449219,\n",
       "        9137.99316406,  9228.32519531,  9123.41015625,  9087.30371094,\n",
       "        9132.48828125,  9073.94238281,  9375.47460938,  9252.27734375,\n",
       "        9428.33300781,  9277.96777344,  9278.80761719,  9240.34667969,\n",
       "        9276.5       ,  9243.61425781,  9243.21386719,  9192.83691406,\n",
       "        9132.22753906,  9151.39257812,  9159.04003906,  9185.81738281,\n",
       "        9164.23144531,  9374.88769531,  9525.36328125,  9581.07226562,\n",
       "        9536.89257812,  9677.11328125,  9905.16699219, 10990.87304688,\n",
       "       10912.82324219, 11100.46777344, 11111.21386719, 11323.46679688,\n",
       "       11759.59277344, 11053.61425781, 11246.34863281, 11205.89257812,\n",
       "       11747.02246094, 11779.7734375 , 11601.47265625, 11754.04589844,\n",
       "       11675.73925781, 11878.11132812, 11410.52539062, 11584.93457031,\n",
       "       11784.13769531, 11768.87109375, 11865.69824219, 11892.80371094,\n",
       "       12254.40234375, 11991.23339844, 11758.28320312, 11878.37207031,\n",
       "       11592.48925781, 11681.82519531, 11664.84765625, 11774.59570312,\n",
       "       11366.13476562, 11488.36328125, 11323.39746094, 11542.5       ,\n",
       "       11506.86523438, 11711.50585938, 11680.8203125 , 11970.47851562,\n",
       "       11414.03417969, 10245.296875  , 10511.81347656, 10169.56738281,\n",
       "       10280.3515625 , 10369.56347656, 10131.51660156, 10242.34765625,\n",
       "       10363.13867188, 10400.91503906, 10442.17089844, 10323.75585938,\n",
       "       10680.83789062, 10796.95117188, 10974.90527344, 10948.99023438,\n",
       "       10944.5859375 , 11094.34667969, 10938.27148438, 10462.25976562,\n",
       "       10538.45996094, 10225.86425781, 10745.54882812, 10702.29003906,\n",
       "       10754.4375    , 10774.42675781, 10721.32714844, 10848.83007812,\n",
       "       10787.61816406, 10623.33007812, 10585.1640625 , 10565.49316406,\n",
       "       10684.42871094, 10804.00097656, 10621.6640625 , 10679.13671875,\n",
       "       10923.62792969, 11296.36132812, 11384.18164062, 11429.50683594,\n",
       "       11495.34960938, 11322.12304688, 11358.1015625 , 11483.359375  ,\n",
       "       11742.03710938, 11916.33496094, 12823.68945312, 12965.89160156,\n",
       "       12931.5390625 , 13108.0625    , 13031.17382812, 13075.24804688,\n",
       "       13654.21875   , 13271.28515625, 13437.8828125 , 13546.52246094,\n",
       "       13780.99511719, 13737.109375  , 13550.48925781, 13950.30078125,\n",
       "       14133.70703125, 15579.84863281, 15565.88085938, 14833.75390625,\n",
       "       15479.56738281, 15332.31542969, 15290.90234375, 15701.33984375,\n",
       "       16276.34375   , 16317.80859375, 16068.13867188, 15955.58789062,\n",
       "       16716.11132812, 17645.40625   , 17804.00585938, 17817.08984375,\n",
       "       18621.31445312, 18642.23242188, 18370.00195312, 18364.12109375,\n",
       "       19107.46484375, 18732.12109375, 17150.62304688, 17108.40234375,\n",
       "       17717.4140625 , 18177.484375  , 19625.8359375 , 18802.99804688,\n",
       "       19201.09179688, 19445.3984375 , 18699.765625  , 19154.23046875,\n",
       "       19345.12109375, 19191.63085938, 18321.14453125, 18553.91601562,\n",
       "       18264.9921875 , 18058.90429688, 18803.65625   , 19142.3828125 ,\n",
       "       19246.64453125, 19417.07617188, 21310.59765625, 22805.16210938,\n",
       "       23137.9609375 , 23869.83203125, 23477.29492188, 22803.08203125,\n",
       "       23783.02929688, 23241.34570312, 23735.94921875, 24664.79101562,\n",
       "       26437.03710938, 26272.29492188, 27084.80859375, 27362.4375    ,\n",
       "       28840.953125  , 29001.72070312, 29374.15234375, 32127.26757812,\n",
       "       32782.0234375 , 31971.9140625 , 33992.4296875 , 36824.36328125,\n",
       "       39371.04296875, 40797.609375  , 40254.546875  , 38356.44140625,\n",
       "       35566.65625   , 33922.9609375 , 37316.359375  , 39187.328125  ,\n",
       "       36825.3671875 , 36178.140625  , 35791.27734375, 36630.07421875,\n",
       "       36069.8046875 , 35547.75      , 30825.69921875, 33005.76171875,\n",
       "       32067.64257812, 32289.37890625, 32366.39257812, 32569.84960938,\n",
       "       30432.546875  , 31649.60546875, 34316.38671875, 34269.5234375 ,\n",
       "       33114.359375  , 33537.17578125, 35510.2890625 , 37472.08984375,\n",
       "       36926.06640625, 38144.30859375, 39266.01171875, 38903.44140625,\n",
       "       46196.46484375, 46481.10546875, 44918.18359375, 47909.33203125,\n",
       "       47504.8515625 , 47105.515625  , 48717.2890625 , 47945.05859375,\n",
       "       49199.87109375, 52149.0078125 , 51679.796875  , 55888.1328125 ,\n",
       "       56099.51953125, 57539.9453125 , 54207.3203125 , 48824.42578125,\n",
       "       49705.33203125, 47093.8515625 , 46339.76171875, 46188.453125  ,\n",
       "       45137.76953125, 49631.2421875 , 48378.98828125, 50538.2421875 ,\n",
       "       48561.16796875, 48927.3046875 , 48912.3828125 , 51206.69140625,\n",
       "       52246.5234375 , 54824.1171875 , 56008.55078125, 57805.12109375,\n",
       "       57332.08984375, 61243.0859375 , 59302.31640625, 55907.19921875,\n",
       "       56804.90234375, 58870.89453125, 57858.921875  , 58346.65234375,\n",
       "       58313.64453125, 57523.421875  , 54529.14453125, 54738.9453125 ,\n",
       "       52774.265625  , 51704.16015625, 55137.3125    , 55973.51171875,\n",
       "       55950.74609375, 57750.19921875, 58917.69140625, 58918.83203125,\n",
       "       59095.80859375, 59384.3125    , 57603.890625  , 58758.5546875 ,\n",
       "       59057.87890625, 58192.359375  , 56048.9375    , 58323.953125  ,\n",
       "       58245.00390625, 59793.234375  , 60204.96484375, 59893.453125  ,\n",
       "       63503.45703125, 63109.6953125 , 63314.01171875, 61572.7890625 ,\n",
       "       60683.8203125 , 56216.18359375, 55724.265625  , 56473.03125   ,\n",
       "       53906.08984375, 51762.2734375 , 51093.65234375, 50050.8671875 ,\n",
       "       49004.25390625, 54021.75390625, 55033.1171875 , 54824.703125  ,\n",
       "       53555.109375  , 57750.17578125, 57828.05078125, 56631.078125  ,\n",
       "       57200.29296875, 53333.5390625 , 57424.0078125 , 56396.515625  ,\n",
       "       57356.40234375, 58803.77734375, 58232.31640625, 55859.796875  ,\n",
       "       56704.57421875, 49150.53515625, 49716.19140625, 49880.53515625,\n",
       "       46760.1875    , 46456.05859375, 43537.51171875, 42909.40234375,\n",
       "       37002.44140625, 40782.73828125, 37304.69140625, 37536.6328125 ,\n",
       "       34770.58203125, 38705.98046875, 38402.22265625, 39294.19921875,\n",
       "       38436.96875   , 35697.60546875, 34616.06640625, 35678.12890625,\n",
       "       37332.85546875, 36684.92578125, 37575.1796875 , 39208.765625  ,\n",
       "       36894.40625   , 35551.95703125, 35862.37890625, 33560.70703125,\n",
       "       33472.6328125 , 37345.12109375, 36702.59765625, 37334.3984375 ,\n",
       "       35552.515625  , 39097.859375  , 40218.4765625 , 40406.26953125,\n",
       "       38347.0625    , 38053.50390625, 35787.24609375, 35615.87109375,\n",
       "       35698.296875  , 31676.69335938, 32505.66015625, 33723.02734375,\n",
       "       34662.4375    , 31637.77929688, 32186.27734375, 34649.64453125,\n",
       "       34434.3359375 , 35867.77734375, 35040.8359375 , 33572.1171875 ,\n",
       "       33897.046875  , 34668.546875  , 35287.78125   , 33746.00390625,\n",
       "       34235.1953125 , 33855.328125  , 32877.37109375, 33798.01171875,\n",
       "       33520.51953125, 34240.1875    , 33155.84765625, 32702.02539062,\n",
       "       32822.34765625, 31780.73046875, 31421.5390625 , 31533.06835938,\n",
       "       31796.81054688, 30817.83203125, 29807.34765625, 32110.69335938,\n",
       "       32313.10546875, 32514.83984375])"
      ]
     },
     "execution_count": 133,
     "metadata": {},
     "output_type": "execute_result"
    }
   ],
   "source": [
    "actual_prices"
   ]
  },
  {
   "cell_type": "code",
   "execution_count": null,
   "id": "9f885d58-7434-465a-8ece-d24673cda944",
   "metadata": {},
   "outputs": [],
   "source": []
  },
  {
   "cell_type": "code",
   "execution_count": null,
   "id": "448d8f35-e538-47a9-8da8-8067468c0b9e",
   "metadata": {},
   "outputs": [],
   "source": []
  },
  {
   "cell_type": "code",
   "execution_count": null,
   "id": "09644c51-bd78-49ec-a453-e3e1b4f44763",
   "metadata": {},
   "outputs": [],
   "source": []
  },
  {
   "cell_type": "code",
   "execution_count": null,
   "id": "4bb45749-decd-40fb-a83e-766a100f6f66",
   "metadata": {},
   "outputs": [],
   "source": []
  }
 ],
 "metadata": {
  "kernelspec": {
   "display_name": "Python 3 (ipykernel)",
   "language": "python",
   "name": "python3"
  },
  "language_info": {
   "codemirror_mode": {
    "name": "ipython",
    "version": 3
   },
   "file_extension": ".py",
   "mimetype": "text/x-python",
   "name": "python",
   "nbconvert_exporter": "python",
   "pygments_lexer": "ipython3",
   "version": "3.8.10"
  }
 },
 "nbformat": 4,
 "nbformat_minor": 5
}
