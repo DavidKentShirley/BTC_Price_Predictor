{
 "cells": [
  {
   "cell_type": "code",
   "execution_count": null,
   "id": "2ac02bfe-8356-4524-9c4e-297c229bbb51",
   "metadata": {},
   "outputs": [],
   "source": []
  },
  {
   "cell_type": "code",
   "execution_count": 1,
   "id": "cc091778-1f21-46cb-b71c-194ca4300e16",
   "metadata": {},
   "outputs": [],
   "source": [
    "import pandas as pd\n",
    "import numpy as np \n",
    "import os\n",
    "import matplotlib.pyplot as plt\n",
    "import time\n",
    "import yfinance as yf"
   ]
  },
  {
   "cell_type": "code",
   "execution_count": 2,
   "id": "b4500649-cd67-43a9-bd1b-23dc4d1e68d0",
   "metadata": {},
   "outputs": [
    {
     "name": "stdout",
     "output_type": "stream",
     "text": [
      "[*********************100%***********************]  1 of 1 completed\n"
     ]
    }
   ],
   "source": [
    "df = yf.download('BTC-USD', start='2017-01-01')"
   ]
  },
  {
   "cell_type": "code",
   "execution_count": 3,
   "id": "aac543ad-99ee-4031-93c5-46d352c1b10c",
   "metadata": {},
   "outputs": [
    {
     "name": "stdout",
     "output_type": "stream",
     "text": [
      "<class 'pandas.core.frame.DataFrame'>\n",
      "DatetimeIndex: 1667 entries, 2017-01-01 to 2021-07-29\n",
      "Data columns (total 6 columns):\n",
      " #   Column     Non-Null Count  Dtype  \n",
      "---  ------     --------------  -----  \n",
      " 0   Open       1667 non-null   float64\n",
      " 1   High       1667 non-null   float64\n",
      " 2   Low        1667 non-null   float64\n",
      " 3   Close      1667 non-null   float64\n",
      " 4   Adj Close  1667 non-null   float64\n",
      " 5   Volume     1667 non-null   int64  \n",
      "dtypes: float64(5), int64(1)\n",
      "memory usage: 91.2 KB\n"
     ]
    }
   ],
   "source": [
    "df.info()"
   ]
  },
  {
   "cell_type": "code",
   "execution_count": 4,
   "id": "546cf638-d041-4c98-aa28-bbcc9a87abcb",
   "metadata": {},
   "outputs": [
    {
     "data": {
      "text/html": [
       "<div>\n",
       "<style scoped>\n",
       "    .dataframe tbody tr th:only-of-type {\n",
       "        vertical-align: middle;\n",
       "    }\n",
       "\n",
       "    .dataframe tbody tr th {\n",
       "        vertical-align: top;\n",
       "    }\n",
       "\n",
       "    .dataframe thead th {\n",
       "        text-align: right;\n",
       "    }\n",
       "</style>\n",
       "<table border=\"1\" class=\"dataframe\">\n",
       "  <thead>\n",
       "    <tr style=\"text-align: right;\">\n",
       "      <th></th>\n",
       "      <th>Open</th>\n",
       "      <th>High</th>\n",
       "      <th>Low</th>\n",
       "      <th>Close</th>\n",
       "      <th>Adj Close</th>\n",
       "      <th>Volume</th>\n",
       "    </tr>\n",
       "    <tr>\n",
       "      <th>Date</th>\n",
       "      <th></th>\n",
       "      <th></th>\n",
       "      <th></th>\n",
       "      <th></th>\n",
       "      <th></th>\n",
       "      <th></th>\n",
       "    </tr>\n",
       "  </thead>\n",
       "  <tbody>\n",
       "    <tr>\n",
       "      <th>2017-01-01</th>\n",
       "      <td>963.658020</td>\n",
       "      <td>1003.080017</td>\n",
       "      <td>958.698975</td>\n",
       "      <td>998.325012</td>\n",
       "      <td>998.325012</td>\n",
       "      <td>147775008</td>\n",
       "    </tr>\n",
       "    <tr>\n",
       "      <th>2017-01-02</th>\n",
       "      <td>998.617004</td>\n",
       "      <td>1031.390015</td>\n",
       "      <td>996.702026</td>\n",
       "      <td>1021.750000</td>\n",
       "      <td>1021.750000</td>\n",
       "      <td>222184992</td>\n",
       "    </tr>\n",
       "    <tr>\n",
       "      <th>2017-01-03</th>\n",
       "      <td>1021.599976</td>\n",
       "      <td>1044.079956</td>\n",
       "      <td>1021.599976</td>\n",
       "      <td>1043.839966</td>\n",
       "      <td>1043.839966</td>\n",
       "      <td>185168000</td>\n",
       "    </tr>\n",
       "    <tr>\n",
       "      <th>2017-01-04</th>\n",
       "      <td>1044.400024</td>\n",
       "      <td>1159.420044</td>\n",
       "      <td>1044.400024</td>\n",
       "      <td>1154.729980</td>\n",
       "      <td>1154.729980</td>\n",
       "      <td>344945984</td>\n",
       "    </tr>\n",
       "    <tr>\n",
       "      <th>2017-01-05</th>\n",
       "      <td>1156.729980</td>\n",
       "      <td>1191.099976</td>\n",
       "      <td>910.416992</td>\n",
       "      <td>1013.380005</td>\n",
       "      <td>1013.380005</td>\n",
       "      <td>510199008</td>\n",
       "    </tr>\n",
       "  </tbody>\n",
       "</table>\n",
       "</div>"
      ],
      "text/plain": [
       "                   Open         High          Low        Close    Adj Close  \\\n",
       "Date                                                                          \n",
       "2017-01-01   963.658020  1003.080017   958.698975   998.325012   998.325012   \n",
       "2017-01-02   998.617004  1031.390015   996.702026  1021.750000  1021.750000   \n",
       "2017-01-03  1021.599976  1044.079956  1021.599976  1043.839966  1043.839966   \n",
       "2017-01-04  1044.400024  1159.420044  1044.400024  1154.729980  1154.729980   \n",
       "2017-01-05  1156.729980  1191.099976   910.416992  1013.380005  1013.380005   \n",
       "\n",
       "               Volume  \n",
       "Date                   \n",
       "2017-01-01  147775008  \n",
       "2017-01-02  222184992  \n",
       "2017-01-03  185168000  \n",
       "2017-01-04  344945984  \n",
       "2017-01-05  510199008  "
      ]
     },
     "execution_count": 4,
     "metadata": {},
     "output_type": "execute_result"
    }
   ],
   "source": [
    "df.head()"
   ]
  },
  {
   "cell_type": "code",
   "execution_count": 5,
   "id": "a8cc3f7e-1594-47b7-a448-15614c398b49",
   "metadata": {},
   "outputs": [],
   "source": [
    "df = df[[\"Close\"]]"
   ]
  },
  {
   "cell_type": "code",
   "execution_count": 6,
   "id": "fc0c8ba3-30cb-4d56-8a70-e135607994b8",
   "metadata": {},
   "outputs": [
    {
     "data": {
      "text/html": [
       "<div>\n",
       "<style scoped>\n",
       "    .dataframe tbody tr th:only-of-type {\n",
       "        vertical-align: middle;\n",
       "    }\n",
       "\n",
       "    .dataframe tbody tr th {\n",
       "        vertical-align: top;\n",
       "    }\n",
       "\n",
       "    .dataframe thead th {\n",
       "        text-align: right;\n",
       "    }\n",
       "</style>\n",
       "<table border=\"1\" class=\"dataframe\">\n",
       "  <thead>\n",
       "    <tr style=\"text-align: right;\">\n",
       "      <th></th>\n",
       "      <th>Close</th>\n",
       "    </tr>\n",
       "  </thead>\n",
       "  <tbody>\n",
       "    <tr>\n",
       "      <th>count</th>\n",
       "      <td>1667.000000</td>\n",
       "    </tr>\n",
       "    <tr>\n",
       "      <th>mean</th>\n",
       "      <td>12144.569668</td>\n",
       "    </tr>\n",
       "    <tr>\n",
       "      <th>std</th>\n",
       "      <td>13332.944120</td>\n",
       "    </tr>\n",
       "    <tr>\n",
       "      <th>min</th>\n",
       "      <td>777.757019</td>\n",
       "    </tr>\n",
       "    <tr>\n",
       "      <th>25%</th>\n",
       "      <td>4875.684082</td>\n",
       "    </tr>\n",
       "    <tr>\n",
       "      <th>50%</th>\n",
       "      <td>8144.194336</td>\n",
       "    </tr>\n",
       "    <tr>\n",
       "      <th>75%</th>\n",
       "      <td>10984.666504</td>\n",
       "    </tr>\n",
       "    <tr>\n",
       "      <th>max</th>\n",
       "      <td>63503.457031</td>\n",
       "    </tr>\n",
       "  </tbody>\n",
       "</table>\n",
       "</div>"
      ],
      "text/plain": [
       "              Close\n",
       "count   1667.000000\n",
       "mean   12144.569668\n",
       "std    13332.944120\n",
       "min      777.757019\n",
       "25%     4875.684082\n",
       "50%     8144.194336\n",
       "75%    10984.666504\n",
       "max    63503.457031"
      ]
     },
     "execution_count": 6,
     "metadata": {},
     "output_type": "execute_result"
    }
   ],
   "source": [
    "df.describe()"
   ]
  },
  {
   "cell_type": "code",
   "execution_count": 7,
   "id": "453285b7-f01b-4c16-874d-1458888ff64d",
   "metadata": {},
   "outputs": [
    {
     "data": {
      "text/plain": [
       "[<matplotlib.lines.Line2D at 0x1447e09d3d0>]"
      ]
     },
     "execution_count": 7,
     "metadata": {},
     "output_type": "execute_result"
    },
    {
     "data": {
      "image/png": "[encoded data removed]",
      "text/plain": [
       "<Figure size 1152x432 with 1 Axes>"
      ]
     },
     "metadata": {
      "needs_background": "light"
     },
     "output_type": "display_data"
    }
   ],
   "source": [
    "plt.figure(1, figsize=(16,6))\n",
    "plt.plot(df.Close)"
   ]
  },
  {
   "cell_type": "code",
   "execution_count": 8,
   "id": "18a3cc1f-0357-40cb-9c7d-0a2f5ed853b4",
   "metadata": {},
   "outputs": [
    {
     "name": "stderr",
     "output_type": "stream",
     "text": [
      "C:\\Users\\David\\anaconda3\\envs\\Block_Chain\\lib\\site-packages\\pandas\\core\\frame.py:3607: SettingWithCopyWarning: \n",
      "A value is trying to be set on a copy of a slice from a DataFrame.\n",
      "Try using .loc[row_indexer,col_indexer] = value instead\n",
      "\n",
      "See the caveats in the documentation: https://pandas.pydata.org/pandas-docs/stable/user_guide/indexing.html#returning-a-view-versus-a-copy\n",
      "  self._set_item(key, value)\n"
     ]
    }
   ],
   "source": [
    "df[\"Returns\"] = df.Close.pct_change()"
   ]
  },
  {
   "cell_type": "code",
   "execution_count": 9,
   "id": "6bafa52f-51da-44fb-834b-46794325e694",
   "metadata": {},
   "outputs": [],
   "source": [
    "df[\"Log_Returns\"] = np.log(1 + df[\"Returns\"])"
   ]
  },
  {
   "cell_type": "code",
   "execution_count": 10,
   "id": "f95d6a3c-8500-4e1e-8de7-e94be8a79a57",
   "metadata": {},
   "outputs": [
    {
     "data": {
      "text/plain": [
       "[<matplotlib.lines.Line2D at 0x1447e937220>]"
      ]
     },
     "execution_count": 10,
     "metadata": {},
     "output_type": "execute_result"
    },
    {
     "data": {
      "image/png": "[encoded data removed]",
      "text/plain": [
       "<Figure size 1152x288 with 1 Axes>"
      ]
     },
     "metadata": {
      "needs_background": "light"
     },
     "output_type": "display_data"
    }
   ],
   "source": [
    "plt.figure(1, figsize=(16,4))\n",
    "plt.plot(df.Log_Returns)"
   ]
  },
  {
   "cell_type": "code",
   "execution_count": 11,
   "id": "1a28a270-92fa-44fd-91f6-89ca7c756876",
   "metadata": {},
   "outputs": [
    {
     "name": "stderr",
     "output_type": "stream",
     "text": [
      "C:\\Users\\David\\anaconda3\\envs\\Block_Chain\\lib\\site-packages\\pandas\\util\\_decorators.py:311: SettingWithCopyWarning: \n",
      "A value is trying to be set on a copy of a slice from a DataFrame\n",
      "\n",
      "See the caveats in the documentation: https://pandas.pydata.org/pandas-docs/stable/user_guide/indexing.html#returning-a-view-versus-a-copy\n",
      "  return func(*args, **kwargs)\n"
     ]
    }
   ],
   "source": [
    "df.dropna(inplace=True)\n",
    "X = df[[\"Close\", \"Log_Returns\"]].values"
   ]
  },
  {
   "cell_type": "code",
   "execution_count": 12,
   "id": "b1ff0550-ca8d-4ec2-b2d4-367d1f702136",
   "metadata": {},
   "outputs": [],
   "source": [
    "from sklearn.preprocessing import MinMaxScaler"
   ]
  },
  {
   "cell_type": "code",
   "execution_count": 13,
   "id": "de8e6583-8378-4678-b1f7-2c518736bbb6",
   "metadata": {},
   "outputs": [],
   "source": [
    "scaler = MinMaxScaler(feature_range = (0, 1)).fit(X)\n",
    "X_scaled = scaler.transform(X)"
   ]
  },
  {
   "cell_type": "code",
   "execution_count": 14,
   "id": "5f0abf0f-b183-4198-83c9-af20b4c764e1",
   "metadata": {},
   "outputs": [
    {
     "data": {
      "text/plain": [
       "array([0.00388984, 0.70729003])"
      ]
     },
     "execution_count": 14,
     "metadata": {},
     "output_type": "execute_result"
    }
   ],
   "source": [
    "X_scaled[0]"
   ]
  },
  {
   "cell_type": "code",
   "execution_count": 15,
   "id": "5e6c6034-5a50-4752-b66f-11cc949517ac",
   "metadata": {},
   "outputs": [],
   "source": [
    "y = [x[0] for x in X_scaled]"
   ]
  },
  {
   "cell_type": "code",
   "execution_count": 16,
   "id": "ae5bfa05-9573-4079-b372-e74f93556f4a",
   "metadata": {},
   "outputs": [
    {
     "name": "stdout",
     "output_type": "stream",
     "text": [
      "1332\n"
     ]
    }
   ],
   "source": [
    "split = int(len(X_scaled) * 0.8)\n",
    "print(split)"
   ]
  },
  {
   "cell_type": "code",
   "execution_count": 17,
   "id": "ee9a9783-2414-45e4-baf7-63f8fa550eef",
   "metadata": {},
   "outputs": [],
   "source": [
    "X_train = X_scaled[:split]\n",
    "X_test = X_scaled[split: len(X_scaled)]\n",
    "y_train = y[:split]\n",
    "y_test = y[split : len(y)]"
   ]
  },
  {
   "cell_type": "code",
   "execution_count": 18,
   "id": "d4cc1a97-0059-471f-b777-31a6f8bf5e67",
   "metadata": {},
   "outputs": [],
   "source": [
    "assert len(X_train) == len(y_train)\n",
    "assert len(X_test) == len(y_test)"
   ]
  },
  {
   "cell_type": "code",
   "execution_count": 64,
   "id": "00b4d66c-f473-4ea4-b732-25b58238462d",
   "metadata": {},
   "outputs": [],
   "source": [
    "n = 60\n",
    "Xtrain = []\n",
    "ytrain = []\n",
    "Xtest = []\n",
    "ytest = []\n",
    "for i in range(n, len(X_train)):\n",
    "    Xtrain.append(X_train[i - n : i, : X_train.shape[1]])\n",
    "    ytrain.append(y_train[i]) # predict next record\n",
    "for i in range(n, len(X_test)):\n",
    "    Xtest.append(X_test[i - n : i, : X_test.shape[1]])\n",
    "    ytest.append(y_test[i]) # predict next record"
   ]
  },
  {
   "cell_type": "code",
   "execution_count": 65,
   "id": "5fdeada8-be9f-4191-a448-e05cfadd3839",
   "metadata": {},
   "outputs": [
    {
     "data": {
      "text/plain": [
       "array([[3.88984070e-03, 7.07290029e-01],\n",
       "       [4.24200841e-03, 7.04675123e-01],\n",
       "       [6.00986456e-03, 8.20020634e-01],\n",
       "       [3.75640265e-03, 4.84388413e-01],\n",
       "       [1.98393911e-03, 5.05213269e-01],\n",
       "       [2.08571611e-03, 6.83890582e-01],\n",
       "       [2.12738886e-03, 6.77833708e-01],\n",
       "       [1.99393524e-03, 6.60290680e-01],\n",
       "       [2.07127217e-03, 6.81437292e-01],\n",
       "       [0.00000000e+00, 4.49741129e-01],\n",
       "       [4.31672589e-04, 7.23277046e-01],\n",
       "       [7.36970488e-04, 7.07756597e-01],\n",
       "       [6.48138933e-04, 6.63833430e-01],\n",
       "       [7.02119778e-04, 6.79654267e-01],\n",
       "       [8.57335630e-04, 6.90742001e-01],\n",
       "       [2.07540082e-03, 8.01094108e-01],\n",
       "       [1.73550812e-03, 6.39224256e-01],\n",
       "       [1.93407135e-03, 6.93891145e-01],\n",
       "       [1.86955238e-03, 6.67129513e-01],\n",
       "       [2.29621961e-03, 7.16379471e-01],\n",
       "       [2.34219713e-03, 6.78197507e-01],\n",
       "       [2.28383270e-03, 6.67918700e-01],\n",
       "       [1.83226321e-03, 6.28388286e-01],\n",
       "       [1.97343311e-03, 6.87977629e-01],\n",
       "       [2.22921354e-03, 6.99239645e-01],\n",
       "       [2.26371297e-03, 6.77083934e-01],\n",
       "       [2.29304747e-03, 6.76566411e-01],\n",
       "       [2.25966315e-03, 6.70371753e-01],\n",
       "       [2.27378889e-03, 6.75065481e-01],\n",
       "       [3.07124506e-03, 7.50385549e-01],\n",
       "       [3.36809300e-03, 7.01220437e-01],\n",
       "       [3.73121334e-03, 7.06674469e-01],\n",
       "       [4.01993146e-03, 6.99385846e-01],\n",
       "       [4.22702346e-03, 6.91838287e-01],\n",
       "       [3.97895833e-03, 6.51878422e-01],\n",
       "       [4.15129692e-03, 6.88842759e-01],\n",
       "       [4.52116049e-03, 7.05707245e-01],\n",
       "       [4.54858100e-03, 6.76016528e-01],\n",
       "       [3.45354419e-03, 5.76845604e-01],\n",
       "       [3.36252911e-03, 6.65322863e-01],\n",
       "       [3.61403688e-03, 6.96617436e-01],\n",
       "       [3.53003651e-03, 6.66045241e-01],\n",
       "       [3.39390409e-03, 6.61227838e-01],\n",
       "       [3.61563073e-03, 6.93879074e-01],\n",
       "       [3.66234193e-03, 6.77891196e-01],\n",
       "       [3.98055219e-03, 7.02107497e-01],\n",
       "       [4.27979189e-03, 6.99912507e-01],\n",
       "       [4.41068055e-03, 6.85000497e-01],\n",
       "       [4.30625686e-03, 6.64636352e-01],\n",
       "       [4.81816801e-03, 7.17422304e-01],\n",
       "       [5.38125568e-03, 7.20318575e-01],\n",
       "       [5.41537077e-03, 6.76447917e-01],\n",
       "       [6.20101412e-03, 7.36227994e-01],\n",
       "       [6.31197475e-03, 6.82291163e-01],\n",
       "       [5.83625128e-03, 6.36337703e-01],\n",
       "       [6.17678132e-03, 7.00489231e-01],\n",
       "       [6.41225130e-03, 6.91928771e-01],\n",
       "       [6.41225130e-03, 6.73669293e-01],\n",
       "       [7.09028326e-03, 7.24997839e-01],\n",
       "       [7.54480206e-03, 7.07087166e-01]])"
      ]
     },
     "execution_count": 65,
     "metadata": {},
     "output_type": "execute_result"
    }
   ],
   "source": [
    "Xtrain[0]"
   ]
  },
  {
   "cell_type": "code",
   "execution_count": 66,
   "id": "cc843c53-0b35-472e-9049-2d8975ec4391",
   "metadata": {},
   "outputs": [
    {
     "data": {
      "text/plain": [
       "0.007927101189698001"
      ]
     },
     "execution_count": 66,
     "metadata": {},
     "output_type": "execute_result"
    }
   ],
   "source": [
    "ytrain[0]"
   ]
  },
  {
   "cell_type": "code",
   "execution_count": 67,
   "id": "8786fdfb-3923-40d1-b9e8-e60fc3931205",
   "metadata": {},
   "outputs": [],
   "source": [
    "val = np.array(ytrain[0])\n",
    "val = np.c_[val, np.zeros(val.shape)]"
   ]
  },
  {
   "cell_type": "code",
   "execution_count": 68,
   "id": "aa0e093e-7843-43de-85ee-ed7db2693ba9",
   "metadata": {},
   "outputs": [
    {
     "data": {
      "text/plain": [
       "array([[ 1.27498999e+03, -4.64730175e-01]])"
      ]
     },
     "execution_count": 68,
     "metadata": {},
     "output_type": "execute_result"
    }
   ],
   "source": [
    "scaler.inverse_transform(val)"
   ]
  },
  {
   "cell_type": "code",
   "execution_count": 69,
   "id": "0f74a3b3-83cc-40cc-bd62-af39af288a96",
   "metadata": {},
   "outputs": [],
   "source": [
    "Xtrain, ytrain = (np.array(Xtrain), np.array(ytrain))\n",
    "Xtrain = np.reshape(Xtrain, (Xtrain.shape[0], Xtrain.shape[1], Xtrain.shape[2]))\n",
    "\n",
    "Xtest, ytest = (np.array(Xtest), np.array(ytest))\n",
    "Xtest = np.reshape(Xtest, (Xtest.shape[0], Xtest.shape[1], Xtest.shape[2]))"
   ]
  },
  {
   "cell_type": "code",
   "execution_count": 70,
   "id": "82b681b9-0437-4dff-b49e-3f159045ea9a",
   "metadata": {},
   "outputs": [
    {
     "name": "stdout",
     "output_type": "stream",
     "text": [
      "(1272, 60, 2)\n",
      "(1272,)\n",
      "---\n",
      "(274, 60, 2)\n",
      "(274,)\n"
     ]
    }
   ],
   "source": [
    "print(Xtrain.shape)\n",
    "print(ytrain.shape)\n",
    "print(\"---\")\n",
    "print(Xtest.shape)\n",
    "print(ytest.shape)"
   ]
  },
  {
   "cell_type": "code",
   "execution_count": 71,
   "id": "a4b41b27-a2b9-4c00-8384-c36c5cb19a85",
   "metadata": {},
   "outputs": [],
   "source": [
    "from keras.models import Sequential\n",
    "from keras.layers import LSTM, Dense"
   ]
  },
  {
   "cell_type": "code",
   "execution_count": null,
   "id": "96bb0487-8988-4c0e-9f19-20e9a6361e88",
   "metadata": {
    "tags": []
   },
   "outputs": [
    {
     "name": "stdout",
     "output_type": "stream",
     "text": [
      "Epoch 1/250\n",
      "159/159 [==============================] - 3s 11ms/step - loss: 0.0071 - val_loss: 0.0214\n",
      "Epoch 2/250\n",
      "159/159 [==============================] - 1s 8ms/step - loss: 1.4634e-04 - val_loss: 0.0128\n",
      "Epoch 3/250\n",
      "159/159 [==============================] - 1s 9ms/step - loss: 1.0235e-04 - val_loss: 0.0122\n",
      "Epoch 4/250\n",
      "159/159 [==============================] - 1s 9ms/step - loss: 1.1120e-04 - val_loss: 0.0124\n",
      "Epoch 5/250\n",
      "159/159 [==============================] - 1s 9ms/step - loss: 1.1814e-04 - val_loss: 0.0128\n",
      "Epoch 6/250\n",
      "159/159 [==============================] - 1s 9ms/step - loss: 9.5762e-05 - val_loss: 0.0133\n",
      "Epoch 7/250\n",
      "159/159 [==============================] - 1s 9ms/step - loss: 1.0574e-04 - val_loss: 0.0133\n",
      "Epoch 8/250\n",
      "159/159 [==============================] - 2s 11ms/step - loss: 9.4402e-05 - val_loss: 0.0151\n",
      "Epoch 9/250\n",
      "159/159 [==============================] - 2s 10ms/step - loss: 9.0049e-05 - val_loss: 0.0134\n",
      "Epoch 10/250\n",
      "159/159 [==============================] - 2s 10ms/step - loss: 1.0267e-04 - val_loss: 0.0148\n",
      "Epoch 11/250\n",
      "159/159 [==============================] - 2s 10ms/step - loss: 8.4504e-05 - val_loss: 0.0156\n",
      "Epoch 12/250\n",
      "159/159 [==============================] - 1s 9ms/step - loss: 8.3215e-05 - val_loss: 0.0159\n",
      "Epoch 13/250\n",
      "159/159 [==============================] - 1s 9ms/step - loss: 9.0024e-05 - val_loss: 0.0151\n",
      "Epoch 14/250\n",
      "159/159 [==============================] - 1s 8ms/step - loss: 7.5997e-05 - val_loss: 0.0157\n",
      "Epoch 15/250\n",
      "159/159 [==============================] - 2s 10ms/step - loss: 1.0354e-04 - val_loss: 0.0167\n",
      "Epoch 16/250\n",
      "159/159 [==============================] - 1s 9ms/step - loss: 6.4544e-05 - val_loss: 0.0149\n",
      "Epoch 17/250\n",
      "159/159 [==============================] - 1s 9ms/step - loss: 7.1623e-05 - val_loss: 0.0162\n",
      "Epoch 18/250\n",
      "159/159 [==============================] - 1s 8ms/step - loss: 9.0892e-05 - val_loss: 0.0163\n",
      "Epoch 19/250\n",
      "159/159 [==============================] - 1s 9ms/step - loss: 8.3332e-05 - val_loss: 0.0173\n",
      "Epoch 20/250\n",
      "159/159 [==============================] - 1s 9ms/step - loss: 6.6603e-05 - val_loss: 0.0167\n",
      "Epoch 21/250\n",
      "159/159 [==============================] - 1s 8ms/step - loss: 6.1920e-05 - val_loss: 0.0156\n",
      "Epoch 22/250\n",
      "159/159 [==============================] - 1s 8ms/step - loss: 5.9727e-05 - val_loss: 0.0164\n",
      "Epoch 23/250\n",
      "159/159 [==============================] - 1s 8ms/step - loss: 5.1918e-05 - val_loss: 0.0162\n",
      "Epoch 24/250\n",
      "159/159 [==============================] - 1s 8ms/step - loss: 5.9853e-05 - val_loss: 0.0170\n",
      "Epoch 25/250\n",
      "159/159 [==============================] - 1s 8ms/step - loss: 6.9305e-05 - val_loss: 0.0162\n",
      "Epoch 26/250\n",
      "159/159 [==============================] - 1s 9ms/step - loss: 5.3002e-05 - val_loss: 0.0154\n",
      "Epoch 27/250\n",
      "159/159 [==============================] - 1s 7ms/step - loss: 8.5922e-05 - val_loss: 0.0163\n",
      "Epoch 28/250\n",
      "159/159 [==============================] - 1s 8ms/step - loss: 6.4486e-05 - val_loss: 0.0161\n",
      "Epoch 29/250\n",
      "159/159 [==============================] - 1s 8ms/step - loss: 4.8637e-05 - val_loss: 0.0168\n",
      "Epoch 30/250\n",
      "159/159 [==============================] - 1s 9ms/step - loss: 5.3493e-05 - val_loss: 0.0169\n",
      "Epoch 31/250\n",
      "159/159 [==============================] - 1s 8ms/step - loss: 5.2876e-05 - val_loss: 0.0159\n",
      "Epoch 32/250\n",
      "159/159 [==============================] - 1s 9ms/step - loss: 4.6031e-05 - val_loss: 0.0163\n",
      "Epoch 33/250\n",
      "159/159 [==============================] - 1s 8ms/step - loss: 5.2947e-05 - val_loss: 0.0152\n",
      "Epoch 34/250\n",
      "159/159 [==============================] - 1s 8ms/step - loss: 5.7996e-05 - val_loss: 0.0155\n",
      "Epoch 35/250\n",
      "159/159 [==============================] - 1s 8ms/step - loss: 5.3685e-05 - val_loss: 0.0160\n",
      "Epoch 36/250\n",
      "159/159 [==============================] - 1s 9ms/step - loss: 5.4438e-05 - val_loss: 0.0156\n",
      "Epoch 37/250\n",
      "159/159 [==============================] - 1s 8ms/step - loss: 5.5759e-05 - val_loss: 0.0156\n",
      "Epoch 38/250\n",
      "159/159 [==============================] - 1s 8ms/step - loss: 5.1922e-05 - val_loss: 0.0151\n",
      "Epoch 39/250\n",
      "159/159 [==============================] - 1s 8ms/step - loss: 6.0875e-05 - val_loss: 0.0166\n",
      "Epoch 40/250\n",
      "159/159 [==============================] - 1s 8ms/step - loss: 6.9774e-05 - val_loss: 0.0152\n",
      "Epoch 41/250\n",
      "159/159 [==============================] - 1s 9ms/step - loss: 6.1804e-05 - val_loss: 0.0153\n",
      "Epoch 42/250\n",
      "159/159 [==============================] - 1s 8ms/step - loss: 4.4581e-05 - val_loss: 0.0162\n",
      "Epoch 43/250\n",
      "159/159 [==============================] - 1s 9ms/step - loss: 4.7282e-05 - val_loss: 0.0150\n",
      "Epoch 44/250\n",
      "159/159 [==============================] - 2s 10ms/step - loss: 5.2173e-05 - val_loss: 0.0154\n",
      "Epoch 45/250\n",
      "159/159 [==============================] - 1s 9ms/step - loss: 4.6044e-05 - val_loss: 0.0143\n",
      "Epoch 46/250\n",
      "159/159 [==============================] - 1s 9ms/step - loss: 4.3699e-05 - val_loss: 0.0157\n",
      "Epoch 47/250\n",
      "159/159 [==============================] - 1s 9ms/step - loss: 6.2872e-05 - val_loss: 0.0155\n",
      "Epoch 48/250\n",
      "159/159 [==============================] - 1s 9ms/step - loss: 5.2634e-05 - val_loss: 0.0153\n",
      "Epoch 49/250\n",
      "159/159 [==============================] - 2s 10ms/step - loss: 4.2257e-05 - val_loss: 0.0137\n",
      "Epoch 50/250\n",
      "159/159 [==============================] - 1s 8ms/step - loss: 5.7757e-05 - val_loss: 0.0163\n",
      "Epoch 51/250\n",
      "159/159 [==============================] - 1s 9ms/step - loss: 5.5166e-05 - val_loss: 0.0162\n",
      "Epoch 52/250\n",
      "159/159 [==============================] - 1s 9ms/step - loss: 4.7768e-05 - val_loss: 0.0157\n",
      "Epoch 53/250\n",
      "159/159 [==============================] - 1s 9ms/step - loss: 4.6821e-05 - val_loss: 0.0168\n",
      "Epoch 54/250\n",
      "159/159 [==============================] - 1s 9ms/step - loss: 5.2494e-05 - val_loss: 0.0146\n",
      "Epoch 55/250\n",
      "159/159 [==============================] - 1s 8ms/step - loss: 4.9647e-05 - val_loss: 0.0154\n",
      "Epoch 56/250\n",
      "159/159 [==============================] - 1s 8ms/step - loss: 3.8768e-05 - val_loss: 0.0159\n",
      "Epoch 57/250\n",
      "159/159 [==============================] - 1s 8ms/step - loss: 4.4118e-05 - val_loss: 0.0157\n",
      "Epoch 58/250\n",
      "159/159 [==============================] - 1s 8ms/step - loss: 4.4882e-05 - val_loss: 0.0166\n",
      "Epoch 59/250\n",
      "159/159 [==============================] - 1s 9ms/step - loss: 5.2201e-05 - val_loss: 0.0158\n",
      "Epoch 60/250\n",
      "159/159 [==============================] - 1s 9ms/step - loss: 4.4665e-05 - val_loss: 0.0166\n",
      "Epoch 61/250\n",
      "159/159 [==============================] - 1s 8ms/step - loss: 4.6672e-05 - val_loss: 0.0172\n",
      "Epoch 62/250\n",
      "159/159 [==============================] - 1s 8ms/step - loss: 6.1812e-05 - val_loss: 0.0154\n",
      "Epoch 63/250\n",
      "159/159 [==============================] - 1s 8ms/step - loss: 4.5530e-05 - val_loss: 0.0173\n",
      "Epoch 64/250\n",
      "159/159 [==============================] - 1s 9ms/step - loss: 4.8878e-05 - val_loss: 0.0164\n",
      "Epoch 65/250\n",
      "159/159 [==============================] - 1s 9ms/step - loss: 4.7640e-05 - val_loss: 0.0192\n",
      "Epoch 66/250\n",
      "159/159 [==============================] - 1s 8ms/step - loss: 4.6519e-05 - val_loss: 0.0149\n",
      "Epoch 67/250\n",
      "159/159 [==============================] - 1s 8ms/step - loss: 4.3751e-05 - val_loss: 0.0151\n",
      "Epoch 68/250\n",
      "159/159 [==============================] - 1s 8ms/step - loss: 4.5943e-05 - val_loss: 0.0166\n",
      "Epoch 69/250\n",
      "159/159 [==============================] - 1s 8ms/step - loss: 4.2507e-05 - val_loss: 0.0165\n",
      "Epoch 70/250\n",
      "159/159 [==============================] - 1s 9ms/step - loss: 5.1702e-05 - val_loss: 0.0165\n",
      "Epoch 71/250\n",
      "159/159 [==============================] - 1s 8ms/step - loss: 5.4933e-05 - val_loss: 0.0174\n",
      "Epoch 72/250\n",
      "159/159 [==============================] - 1s 9ms/step - loss: 4.1348e-05 - val_loss: 0.0158\n",
      "Epoch 73/250\n",
      "159/159 [==============================] - 1s 9ms/step - loss: 4.3535e-05 - val_loss: 0.0172\n",
      "Epoch 74/250\n",
      "159/159 [==============================] - 1s 8ms/step - loss: 4.7031e-05 - val_loss: 0.0170\n",
      "Epoch 75/250\n",
      "159/159 [==============================] - 1s 8ms/step - loss: 4.2458e-05 - val_loss: 0.0178\n",
      "Epoch 76/250\n",
      "159/159 [==============================] - 1s 8ms/step - loss: 4.2141e-05 - val_loss: 0.0156\n",
      "Epoch 77/250\n",
      "159/159 [==============================] - 1s 8ms/step - loss: 4.4948e-05 - val_loss: 0.0172\n",
      "Epoch 78/250\n",
      "159/159 [==============================] - 1s 8ms/step - loss: 4.3669e-05 - val_loss: 0.0188\n",
      "Epoch 79/250\n",
      "159/159 [==============================] - 1s 9ms/step - loss: 5.0606e-05 - val_loss: 0.0176\n",
      "Epoch 80/250\n",
      "159/159 [==============================] - 1s 9ms/step - loss: 4.5712e-05 - val_loss: 0.0185\n",
      "Epoch 81/250\n",
      "159/159 [==============================] - 1s 8ms/step - loss: 4.0693e-05 - val_loss: 0.0187\n",
      "Epoch 82/250\n",
      "159/159 [==============================] - 1s 8ms/step - loss: 3.3752e-05 - val_loss: 0.0160\n",
      "Epoch 83/250\n",
      "159/159 [==============================] - 1s 9ms/step - loss: 4.0088e-05 - val_loss: 0.0176\n",
      "Epoch 84/250\n",
      "159/159 [==============================] - 1s 8ms/step - loss: 4.0975e-05 - val_loss: 0.0159\n",
      "Epoch 85/250\n",
      "159/159 [==============================] - 1s 8ms/step - loss: 4.2026e-05 - val_loss: 0.0164\n",
      "Epoch 86/250\n",
      "159/159 [==============================] - 2s 10ms/step - loss: 4.4017e-05 - val_loss: 0.0190\n",
      "Epoch 87/250\n",
      "159/159 [==============================] - 1s 9ms/step - loss: 3.7321e-05 - val_loss: 0.0176\n",
      "Epoch 88/250\n",
      "159/159 [==============================] - 1s 9ms/step - loss: 3.3320e-05 - val_loss: 0.0179\n",
      "Epoch 89/250\n",
      "159/159 [==============================] - 1s 8ms/step - loss: 4.0176e-05 - val_loss: 0.0178\n",
      "Epoch 90/250\n",
      "159/159 [==============================] - 1s 9ms/step - loss: 4.2132e-05 - val_loss: 0.0181\n",
      "Epoch 91/250\n",
      "159/159 [==============================] - 1s 9ms/step - loss: 4.7220e-05 - val_loss: 0.0174\n",
      "Epoch 92/250\n",
      "159/159 [==============================] - 1s 9ms/step - loss: 4.9867e-05 - val_loss: 0.0170\n",
      "Epoch 93/250\n",
      "159/159 [==============================] - 1s 9ms/step - loss: 4.5897e-05 - val_loss: 0.0187\n",
      "Epoch 94/250\n",
      "159/159 [==============================] - 2s 9ms/step - loss: 3.7030e-05 - val_loss: 0.0169\n",
      "Epoch 95/250\n",
      "159/159 [==============================] - 2s 10ms/step - loss: 3.5586e-05 - val_loss: 0.0166\n",
      "Epoch 96/250\n",
      "159/159 [==============================] - 1s 9ms/step - loss: 4.6576e-05 - val_loss: 0.0194\n",
      "Epoch 97/250\n",
      "159/159 [==============================] - 1s 9ms/step - loss: 3.7961e-05 - val_loss: 0.0171\n",
      "Epoch 98/250\n",
      "159/159 [==============================] - 2s 10ms/step - loss: 5.2357e-05 - val_loss: 0.0161\n",
      "Epoch 99/250\n",
      "159/159 [==============================] - 1s 9ms/step - loss: 5.1459e-05 - val_loss: 0.0165\n",
      "Epoch 100/250\n",
      "159/159 [==============================] - 1s 7ms/step - loss: 4.0767e-05 - val_loss: 0.0171\n",
      "Epoch 101/250\n",
      "159/159 [==============================] - 1s 6ms/step - loss: 4.2727e-05 - val_loss: 0.0187\n",
      "Epoch 102/250\n",
      "159/159 [==============================] - 1s 6ms/step - loss: 4.9777e-05 - val_loss: 0.0170\n",
      "Epoch 103/250\n",
      "159/159 [==============================] - 1s 8ms/step - loss: 4.0079e-05 - val_loss: 0.0190\n",
      "Epoch 104/250\n",
      "159/159 [==============================] - 1s 6ms/step - loss: 5.2324e-05 - val_loss: 0.0187\n",
      "Epoch 105/250\n",
      "159/159 [==============================] - 1s 7ms/step - loss: 3.4345e-05 - val_loss: 0.0202\n",
      "Epoch 106/250\n",
      "159/159 [==============================] - 1s 7ms/step - loss: 4.7219e-05 - val_loss: 0.0170\n",
      "Epoch 107/250\n",
      "159/159 [==============================] - 1s 7ms/step - loss: 3.1079e-05 - val_loss: 0.0167\n",
      "Epoch 108/250\n",
      "159/159 [==============================] - 1s 8ms/step - loss: 3.7316e-05 - val_loss: 0.0191\n",
      "Epoch 109/250\n",
      "159/159 [==============================] - 1s 8ms/step - loss: 4.3560e-05 - val_loss: 0.0195\n",
      "Epoch 110/250\n",
      "159/159 [==============================] - 1s 8ms/step - loss: 3.6706e-05 - val_loss: 0.0191\n",
      "Epoch 111/250\n",
      "159/159 [==============================] - 1s 7ms/step - loss: 3.6371e-05 - val_loss: 0.0169\n",
      "Epoch 112/250\n",
      "159/159 [==============================] - 1s 7ms/step - loss: 4.1031e-05 - val_loss: 0.0190\n",
      "Epoch 113/250\n",
      "159/159 [==============================] - 1s 7ms/step - loss: 3.4435e-05 - val_loss: 0.0201\n",
      "Epoch 114/250\n",
      "159/159 [==============================] - 1s 8ms/step - loss: 3.3095e-05 - val_loss: 0.0183\n",
      "Epoch 115/250\n",
      "159/159 [==============================] - 1s 7ms/step - loss: 3.3538e-05 - val_loss: 0.0184\n",
      "Epoch 116/250\n",
      "159/159 [==============================] - 1s 6ms/step - loss: 3.8315e-05 - val_loss: 0.0178\n",
      "Epoch 117/250\n",
      "159/159 [==============================] - 1s 8ms/step - loss: 3.6881e-05 - val_loss: 0.0207\n",
      "Epoch 118/250\n",
      "159/159 [==============================] - 1s 7ms/step - loss: 5.0090e-05 - val_loss: 0.0191\n",
      "Epoch 119/250\n",
      "159/159 [==============================] - 1s 7ms/step - loss: 3.9429e-05 - val_loss: 0.0180\n",
      "Epoch 120/250\n",
      "159/159 [==============================] - 1s 6ms/step - loss: 3.8458e-05 - val_loss: 0.0218\n",
      "Epoch 121/250\n",
      "159/159 [==============================] - 1s 6ms/step - loss: 4.2399e-05 - val_loss: 0.0204\n",
      "Epoch 122/250\n",
      "159/159 [==============================] - 1s 7ms/step - loss: 3.5907e-05 - val_loss: 0.0192\n",
      "Epoch 123/250\n",
      "159/159 [==============================] - 1s 6ms/step - loss: 3.5593e-05 - val_loss: 0.0214\n",
      "Epoch 124/250\n",
      "159/159 [==============================] - 1s 6ms/step - loss: 3.6759e-05 - val_loss: 0.0203\n",
      "Epoch 125/250\n",
      "159/159 [==============================] - 1s 6ms/step - loss: 4.2783e-05 - val_loss: 0.0187\n",
      "Epoch 126/250\n",
      "159/159 [==============================] - 1s 9ms/step - loss: 3.8900e-05 - val_loss: 0.0181\n",
      "Epoch 127/250\n",
      "159/159 [==============================] - 1s 8ms/step - loss: 4.0756e-05 - val_loss: 0.0183\n",
      "Epoch 128/250\n",
      "159/159 [==============================] - 1s 8ms/step - loss: 4.1727e-05 - val_loss: 0.0185\n",
      "Epoch 129/250\n",
      "159/159 [==============================] - 1s 9ms/step - loss: 4.6390e-05 - val_loss: 0.0195\n",
      "Epoch 130/250\n",
      "159/159 [==============================] - 1s 8ms/step - loss: 4.0693e-05 - val_loss: 0.0190\n",
      "Epoch 131/250\n",
      "159/159 [==============================] - 2s 10ms/step - loss: 4.1478e-05 - val_loss: 0.0218\n",
      "Epoch 132/250\n",
      "159/159 [==============================] - 2s 10ms/step - loss: 4.7104e-05 - val_loss: 0.0211\n",
      "Epoch 133/250\n",
      "159/159 [==============================] - 2s 10ms/step - loss: 3.6057e-05 - val_loss: 0.0159\n",
      "Epoch 134/250\n",
      "159/159 [==============================] - 1s 9ms/step - loss: 3.4004e-05 - val_loss: 0.0202\n",
      "Epoch 135/250\n",
      "159/159 [==============================] - 1s 8ms/step - loss: 4.0669e-05 - val_loss: 0.0212\n",
      "Epoch 136/250\n",
      "159/159 [==============================] - 1s 9ms/step - loss: 4.0907e-05 - val_loss: 0.0186\n",
      "Epoch 137/250\n",
      "159/159 [==============================] - 1s 9ms/step - loss: 3.1129e-05 - val_loss: 0.0192\n",
      "Epoch 138/250\n",
      "159/159 [==============================] - 1s 8ms/step - loss: 4.4177e-05 - val_loss: 0.0194\n",
      "Epoch 139/250\n",
      "159/159 [==============================] - 1s 7ms/step - loss: 3.2312e-05 - val_loss: 0.0191\n",
      "Epoch 140/250\n",
      "159/159 [==============================] - 1s 8ms/step - loss: 3.9387e-05 - val_loss: 0.0190\n",
      "Epoch 141/250\n",
      "159/159 [==============================] - 1s 8ms/step - loss: 3.3880e-05 - val_loss: 0.0186\n",
      "Epoch 142/250\n",
      "159/159 [==============================] - 1s 9ms/step - loss: 5.4700e-05 - val_loss: 0.0183\n",
      "Epoch 143/250\n",
      "159/159 [==============================] - 1s 9ms/step - loss: 4.9583e-05 - val_loss: 0.0192\n",
      "Epoch 144/250\n",
      "159/159 [==============================] - 2s 9ms/step - loss: 3.3812e-05 - val_loss: 0.0190\n",
      "Epoch 145/250\n",
      "159/159 [==============================] - 1s 7ms/step - loss: 3.7385e-05 - val_loss: 0.0212\n",
      "Epoch 146/250\n",
      "159/159 [==============================] - 1s 8ms/step - loss: 4.3167e-05 - val_loss: 0.0202\n",
      "Epoch 147/250\n",
      "159/159 [==============================] - 2s 10ms/step - loss: 3.0039e-05 - val_loss: 0.0215\n",
      "Epoch 148/250\n",
      "159/159 [==============================] - 1s 9ms/step - loss: 3.9539e-05 - val_loss: 0.0220\n",
      "Epoch 149/250\n",
      "159/159 [==============================] - 2s 10ms/step - loss: 4.0717e-05 - val_loss: 0.0203\n",
      "Epoch 150/250\n",
      "159/159 [==============================] - 1s 9ms/step - loss: 5.0232e-05 - val_loss: 0.0196\n",
      "Epoch 151/250\n",
      "159/159 [==============================] - 1s 8ms/step - loss: 2.9920e-05 - val_loss: 0.0228\n",
      "Epoch 152/250\n",
      "159/159 [==============================] - 1s 8ms/step - loss: 3.9716e-05 - val_loss: 0.0218\n",
      "Epoch 153/250\n",
      "159/159 [==============================] - 1s 8ms/step - loss: 3.8363e-05 - val_loss: 0.0206\n",
      "Epoch 154/250\n",
      "159/159 [==============================] - 1s 9ms/step - loss: 4.2368e-05 - val_loss: 0.0208\n",
      "Epoch 155/250\n",
      "159/159 [==============================] - 1s 9ms/step - loss: 3.6475e-05 - val_loss: 0.0207\n",
      "Epoch 156/250\n",
      "159/159 [==============================] - 1s 8ms/step - loss: 5.0306e-05 - val_loss: 0.0218\n",
      "Epoch 157/250\n",
      "159/159 [==============================] - 1s 9ms/step - loss: 3.3725e-05 - val_loss: 0.0192\n",
      "Epoch 158/250\n",
      "159/159 [==============================] - 1s 9ms/step - loss: 3.9361e-05 - val_loss: 0.0209\n",
      "Epoch 159/250\n",
      "159/159 [==============================] - 1s 9ms/step - loss: 3.8376e-05 - val_loss: 0.0221\n",
      "Epoch 160/250\n",
      "159/159 [==============================] - 2s 10ms/step - loss: 5.1420e-05 - val_loss: 0.0232\n",
      "Epoch 161/250\n",
      "159/159 [==============================] - 2s 11ms/step - loss: 3.3314e-05 - val_loss: 0.0225\n",
      "Epoch 162/250\n",
      "159/159 [==============================] - 2s 10ms/step - loss: 3.9488e-05 - val_loss: 0.0181\n",
      "Epoch 163/250\n",
      "159/159 [==============================] - 1s 9ms/step - loss: 4.6463e-05 - val_loss: 0.0212\n",
      "Epoch 164/250\n",
      "159/159 [==============================] - 1s 8ms/step - loss: 4.5311e-05 - val_loss: 0.0219\n",
      "Epoch 165/250\n",
      "159/159 [==============================] - 1s 8ms/step - loss: 3.5103e-05 - val_loss: 0.0195\n",
      "Epoch 166/250\n",
      "159/159 [==============================] - 1s 8ms/step - loss: 3.8149e-05 - val_loss: 0.0220\n",
      "Epoch 167/250\n",
      "159/159 [==============================] - 2s 10ms/step - loss: 5.0321e-05 - val_loss: 0.0210\n",
      "Epoch 168/250\n",
      "159/159 [==============================] - 2s 9ms/step - loss: 4.1192e-05 - val_loss: 0.0206\n",
      "Epoch 169/250\n",
      "159/159 [==============================] - 2s 10ms/step - loss: 4.0402e-05 - val_loss: 0.0195\n",
      "Epoch 170/250\n",
      "159/159 [==============================] - 1s 9ms/step - loss: 3.5396e-05 - val_loss: 0.0226\n",
      "Epoch 171/250\n",
      "159/159 [==============================] - 1s 8ms/step - loss: 4.7284e-05 - val_loss: 0.0213\n",
      "Epoch 172/250\n",
      "159/159 [==============================] - 1s 8ms/step - loss: 3.7657e-05 - val_loss: 0.0184\n",
      "Epoch 173/250\n",
      "159/159 [==============================] - 1s 8ms/step - loss: 3.8394e-05 - val_loss: 0.0198\n",
      "Epoch 174/250\n",
      "159/159 [==============================] - 1s 8ms/step - loss: 3.5020e-05 - val_loss: 0.0208\n",
      "Epoch 175/250\n",
      "159/159 [==============================] - 1s 9ms/step - loss: 3.9337e-05 - val_loss: 0.0211\n",
      "Epoch 176/250\n",
      "159/159 [==============================] - 1s 8ms/step - loss: 3.4970e-05 - val_loss: 0.0210\n",
      "Epoch 177/250\n",
      "159/159 [==============================] - 1s 9ms/step - loss: 3.6774e-05 - val_loss: 0.0210\n",
      "Epoch 178/250\n",
      "159/159 [==============================] - 1s 9ms/step - loss: 3.5613e-05 - val_loss: 0.0229\n",
      "Epoch 179/250\n",
      "159/159 [==============================] - 1s 9ms/step - loss: 4.4616e-05 - val_loss: 0.0221\n",
      "Epoch 180/250\n",
      "159/159 [==============================] - 1s 9ms/step - loss: 3.2474e-05 - val_loss: 0.0242\n",
      "Epoch 181/250\n",
      "159/159 [==============================] - 1s 8ms/step - loss: 3.3883e-05 - val_loss: 0.0225\n",
      "Epoch 182/250\n",
      "159/159 [==============================] - 1s 9ms/step - loss: 3.7809e-05 - val_loss: 0.0224\n",
      "Epoch 183/250\n",
      "159/159 [==============================] - 1s 8ms/step - loss: 4.0660e-05 - val_loss: 0.0218\n",
      "Epoch 184/250\n",
      "159/159 [==============================] - 1s 9ms/step - loss: 4.4688e-05 - val_loss: 0.0211\n",
      "Epoch 185/250\n",
      "159/159 [==============================] - 1s 9ms/step - loss: 3.6984e-05 - val_loss: 0.0227\n",
      "Epoch 186/250\n",
      "159/159 [==============================] - 1s 9ms/step - loss: 4.2485e-05 - val_loss: 0.0212\n",
      "Epoch 187/250\n",
      "159/159 [==============================] - 1s 8ms/step - loss: 4.2693e-05 - val_loss: 0.0209\n",
      "Epoch 188/250\n",
      "159/159 [==============================] - 1s 8ms/step - loss: 3.6680e-05 - val_loss: 0.0232\n",
      "Epoch 189/250\n",
      "159/159 [==============================] - 1s 9ms/step - loss: 4.0275e-05 - val_loss: 0.0197\n",
      "Epoch 190/250\n",
      "159/159 [==============================] - 1s 8ms/step - loss: 4.1448e-05 - val_loss: 0.0212\n",
      "Epoch 191/250\n",
      "159/159 [==============================] - 1s 9ms/step - loss: 3.4398e-05 - val_loss: 0.0219\n",
      "Epoch 192/250\n",
      "159/159 [==============================] - 2s 11ms/step - loss: 3.4580e-05 - val_loss: 0.0208\n",
      "Epoch 193/250\n",
      "159/159 [==============================] - 1s 9ms/step - loss: 4.0677e-05 - val_loss: 0.0235\n",
      "Epoch 194/250\n",
      "159/159 [==============================] - 2s 9ms/step - loss: 3.7383e-05 - val_loss: 0.0202\n",
      "Epoch 195/250\n",
      "159/159 [==============================] - 1s 7ms/step - loss: 3.3424e-05 - val_loss: 0.0217\n",
      "Epoch 196/250\n",
      "159/159 [==============================] - 1s 8ms/step - loss: 3.5814e-05 - val_loss: 0.0215\n",
      "Epoch 197/250\n",
      "159/159 [==============================] - 1s 8ms/step - loss: 3.4127e-05 - val_loss: 0.0213\n",
      "Epoch 198/250\n",
      "159/159 [==============================] - 1s 8ms/step - loss: 3.6054e-05 - val_loss: 0.0225\n",
      "Epoch 199/250\n",
      "159/159 [==============================] - 1s 7ms/step - loss: 4.2002e-05 - val_loss: 0.0218\n",
      "Epoch 200/250\n",
      "159/159 [==============================] - 1s 8ms/step - loss: 4.0701e-05 - val_loss: 0.0223\n",
      "Epoch 201/250\n",
      "159/159 [==============================] - 1s 9ms/step - loss: 5.0330e-05 - val_loss: 0.0213\n",
      "Epoch 202/250\n",
      "133/159 [========================>.....] - ETA: 0s - loss: 3.4887e-05"
     ]
    }
   ],
   "source": [
    "model = Sequential()\n",
    "model.add(LSTM(4, input_shape=(Xtrain.shape[1], Xtrain.shape[2])))\n",
    "model.add(Dense(1))\n",
    "model.compile(loss=\"mean_squared_error\", optimizer='adam')\n",
    "model.fit(Xtrain, ytrain, epochs=250, validation_data=(Xtest, ytest), batch_size=8, verbose=1)"
   ]
  },
  {
   "cell_type": "code",
   "execution_count": null,
   "id": "49dc2239-ff48-4909-b208-b4f2903a8a5e",
   "metadata": {},
   "outputs": [],
   "source": [
    "model.summary()"
   ]
  },
  {
   "cell_type": "code",
   "execution_count": null,
   "id": "bd3e35e4-c4fc-4545-991b-204d9ae41821",
   "metadata": {},
   "outputs": [],
   "source": [
    "trainPredict = model.predict(Xtrain)\n",
    "testPredict = model.predict(Xtest)"
   ]
  },
  {
   "cell_type": "code",
   "execution_count": null,
   "id": "dce67870-98aa-45e5-91c2-5b894643e567",
   "metadata": {},
   "outputs": [],
   "source": [
    "trainPredict = np.c_[trainPredict, np.zeros(trainPredict.shape)]\n",
    "testPredict = np.c_[testPredict, np.zeros(testPredict.shape)]"
   ]
  },
  {
   "cell_type": "code",
   "execution_count": null,
   "id": "70294188-10d0-48bd-b8ca-a0182214adc3",
   "metadata": {},
   "outputs": [],
   "source": [
    "trainPredict = scaler.inverse_transform(trainPredict)\n",
    "trainPredict = [x[0] for x in trainPredict]\n",
    "\n",
    "testPredict = scaler.inverse_transform(testPredict)\n",
    "testPredict = [x[0] for x in testPredict]"
   ]
  },
  {
   "cell_type": "code",
   "execution_count": null,
   "id": "539e76f7-5cf1-4147-9477-d5b4df3f5c44",
   "metadata": {},
   "outputs": [],
   "source": [
    "print(trainPredict[:5])\n",
    "print(testPredict[:5])"
   ]
  },
  {
   "cell_type": "code",
   "execution_count": null,
   "id": "279808a4-9628-4118-a6ed-ffb4b08539a7",
   "metadata": {},
   "outputs": [],
   "source": [
    "from sklearn.metrics import mean_squared_error"
   ]
  },
  {
   "cell_type": "code",
   "execution_count": null,
   "id": "9e03ff53-77ab-413b-a717-7e8d2aaa5291",
   "metadata": {},
   "outputs": [],
   "source": [
    "trainScore = mean_squared_error([x[0][0] for x in Xtrain], trainPredict, squared=False)\n",
    "print(\"Train Score: %.2f RMSE\" % (trainScore))\n",
    "\n",
    "testScore = mean_squared_error([x[0][0] for x in Xtest], testPredict, squared=False)\n",
    "print(\"Test Score: %.2f RMSE\" % (testScore))"
   ]
  },
  {
   "cell_type": "code",
   "execution_count": null,
   "id": "64248f3a-fdf0-4bad-ab47-2253faae01cf",
   "metadata": {},
   "outputs": [],
   "source": []
  }
 ],
 "metadata": {
  "kernelspec": {
   "display_name": "Python 3 (ipykernel)",
   "language": "python",
   "name": "python3"
  },
  "language_info": {
   "codemirror_mode": {
    "name": "ipython",
    "version": 3
   },
   "file_extension": ".py",
   "mimetype": "text/x-python",
   "name": "python",
   "nbconvert_exporter": "python",
   "pygments_lexer": "ipython3",
   "version": "3.8.10"
  }
 },
 "nbformat": 4,
 "nbformat_minor": 5
}
