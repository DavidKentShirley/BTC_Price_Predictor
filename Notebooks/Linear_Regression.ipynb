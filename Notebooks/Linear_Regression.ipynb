{
 "cells": [
  {
   "cell_type": "code",
   "execution_count": 2,
   "id": "22a33402-182a-4d0c-91b0-d8569e4443e8",
   "metadata": {},
   "outputs": [],
   "source": [
    "from sklearn.model_selection import train_test_split\n",
    "from sklearn.linear_model import LinearRegression\n",
    "from sklearn import metrics\n",
    "import pandas as pd\n",
    "import matplotlib.pyplot as plt\n",
    "import yfinance as yf"
   ]
  },
  {
   "cell_type": "code",
   "execution_count": 3,
   "id": "2e85ff7c-3af3-4960-96ce-d6d44c47af73",
   "metadata": {},
   "outputs": [
    {
     "name": "stdout",
     "output_type": "stream",
     "text": [
      "[*********************100%***********************]  1 of 1 completed\n"
     ]
    }
   ],
   "source": [
    "df = yf.download('BTC-USD', start='2017-01-01')"
   ]
  },
  {
   "cell_type": "code",
   "execution_count": 4,
   "id": "7020e5fa-e013-42b6-b7c3-ed7624d4b81d",
   "metadata": {},
   "outputs": [
    {
     "data": {
      "text/html": [
       "<div>\n",
       "<style scoped>\n",
       "    .dataframe tbody tr th:only-of-type {\n",
       "        vertical-align: middle;\n",
       "    }\n",
       "\n",
       "    .dataframe tbody tr th {\n",
       "        vertical-align: top;\n",
       "    }\n",
       "\n",
       "    .dataframe thead th {\n",
       "        text-align: right;\n",
       "    }\n",
       "</style>\n",
       "<table border=\"1\" class=\"dataframe\">\n",
       "  <thead>\n",
       "    <tr style=\"text-align: right;\">\n",
       "      <th></th>\n",
       "      <th>Open</th>\n",
       "      <th>High</th>\n",
       "      <th>Low</th>\n",
       "      <th>Close</th>\n",
       "      <th>Adj Close</th>\n",
       "      <th>Volume</th>\n",
       "    </tr>\n",
       "  </thead>\n",
       "  <tbody>\n",
       "    <tr>\n",
       "      <th>count</th>\n",
       "      <td>1667.000000</td>\n",
       "      <td>1667.000000</td>\n",
       "      <td>1667.000000</td>\n",
       "      <td>1667.000000</td>\n",
       "      <td>1667.000000</td>\n",
       "      <td>1.667000e+03</td>\n",
       "    </tr>\n",
       "    <tr>\n",
       "      <th>mean</th>\n",
       "      <td>12123.029578</td>\n",
       "      <td>12474.117676</td>\n",
       "      <td>11737.545519</td>\n",
       "      <td>12144.692780</td>\n",
       "      <td>12144.692780</td>\n",
       "      <td>1.957626e+10</td>\n",
       "    </tr>\n",
       "    <tr>\n",
       "      <th>std</th>\n",
       "      <td>13321.117864</td>\n",
       "      <td>13747.281918</td>\n",
       "      <td>12818.010737</td>\n",
       "      <td>13333.198330</td>\n",
       "      <td>13333.198330</td>\n",
       "      <td>2.146903e+10</td>\n",
       "    </tr>\n",
       "    <tr>\n",
       "      <th>min</th>\n",
       "      <td>775.177979</td>\n",
       "      <td>823.307007</td>\n",
       "      <td>755.755981</td>\n",
       "      <td>777.757019</td>\n",
       "      <td>777.757019</td>\n",
       "      <td>6.085170e+07</td>\n",
       "    </tr>\n",
       "    <tr>\n",
       "      <th>25%</th>\n",
       "      <td>4846.755127</td>\n",
       "      <td>4963.324951</td>\n",
       "      <td>4626.943848</td>\n",
       "      <td>4875.684082</td>\n",
       "      <td>4875.684082</td>\n",
       "      <td>4.212510e+09</td>\n",
       "    </tr>\n",
       "    <tr>\n",
       "      <th>50%</th>\n",
       "      <td>8140.933105</td>\n",
       "      <td>8272.259766</td>\n",
       "      <td>7905.766113</td>\n",
       "      <td>8144.194336</td>\n",
       "      <td>8144.194336</td>\n",
       "      <td>1.377804e+10</td>\n",
       "    </tr>\n",
       "    <tr>\n",
       "      <th>75%</th>\n",
       "      <td>10994.873047</td>\n",
       "      <td>11381.490723</td>\n",
       "      <td>10691.985352</td>\n",
       "      <td>10984.666504</td>\n",
       "      <td>10984.666504</td>\n",
       "      <td>2.862133e+10</td>\n",
       "    </tr>\n",
       "    <tr>\n",
       "      <th>max</th>\n",
       "      <td>63523.753906</td>\n",
       "      <td>64863.097656</td>\n",
       "      <td>62208.964844</td>\n",
       "      <td>63503.457031</td>\n",
       "      <td>63503.457031</td>\n",
       "      <td>3.509679e+11</td>\n",
       "    </tr>\n",
       "  </tbody>\n",
       "</table>\n",
       "</div>"
      ],
      "text/plain": [
       "               Open          High           Low         Close     Adj Close  \\\n",
       "count   1667.000000   1667.000000   1667.000000   1667.000000   1667.000000   \n",
       "mean   12123.029578  12474.117676  11737.545519  12144.692780  12144.692780   \n",
       "std    13321.117864  13747.281918  12818.010737  13333.198330  13333.198330   \n",
       "min      775.177979    823.307007    755.755981    777.757019    777.757019   \n",
       "25%     4846.755127   4963.324951   4626.943848   4875.684082   4875.684082   \n",
       "50%     8140.933105   8272.259766   7905.766113   8144.194336   8144.194336   \n",
       "75%    10994.873047  11381.490723  10691.985352  10984.666504  10984.666504   \n",
       "max    63523.753906  64863.097656  62208.964844  63503.457031  63503.457031   \n",
       "\n",
       "             Volume  \n",
       "count  1.667000e+03  \n",
       "mean   1.957626e+10  \n",
       "std    2.146903e+10  \n",
       "min    6.085170e+07  \n",
       "25%    4.212510e+09  \n",
       "50%    1.377804e+10  \n",
       "75%    2.862133e+10  \n",
       "max    3.509679e+11  "
      ]
     },
     "execution_count": 4,
     "metadata": {},
     "output_type": "execute_result"
    }
   ],
   "source": [
    "df.describe()"
   ]
  },
  {
   "cell_type": "code",
   "execution_count": null,
   "id": "3706f80b-0d1d-456c-b0cf-624f68506cc2",
   "metadata": {},
   "outputs": [],
   "source": []
  }
 ],
 "metadata": {
  "kernelspec": {
   "display_name": "Python 3 (ipykernel)",
   "language": "python",
   "name": "python3"
  },
  "language_info": {
   "codemirror_mode": {
    "name": "ipython",
    "version": 3
   },
   "file_extension": ".py",
   "mimetype": "text/x-python",
   "name": "python",
   "nbconvert_exporter": "python",
   "pygments_lexer": "ipython3",
   "version": "3.8.10"
  }
 },
 "nbformat": 4,
 "nbformat_minor": 5
}
