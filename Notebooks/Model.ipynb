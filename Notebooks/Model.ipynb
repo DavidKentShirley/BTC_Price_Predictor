{
 "cells": [
  {
   "cell_type": "code",
   "execution_count": null,
   "id": "f0c40559-dee0-4b2a-aa01-1500ee79ed8f",
   "metadata": {},
   "outputs": [],
   "source": []
  }
 ],
 "metadata": {
  "kernelspec": {
   "display_name": "Python 3",
   "language": "python",
   "name": "python3"
  },
  "language_info": {
   "codemirror_mode": {
    "name": "ipython",
    "version": 3
   },
   "file_extension": ".py",
   "mimetype": "text/x-python",
   "name": "python",
   "nbconvert_exporter": "python",
   "pygments_lexer": "ipython3",
   "version": "3.8.8"
  }
 },
 "nbformat": 4,
 "nbformat_minor": 5
}
